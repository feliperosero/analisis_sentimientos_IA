{
 "cells": [
  {
   "cell_type": "markdown",
   "id": "2e6fc07f",
   "metadata": {},
   "source": [
    "# Preparación de Silver para Análisis de Sentimientos (BERT)\n",
    "**Autor:** Felipe Rosero — Tesis USFQ\n",
    "Este script limpia `silver.parquet`, genera `texto_model`, detecta idioma,\n",
    "hace un EDA mínimo (2 gráficos) y exporta un dataset listo para BERT\n",
    "filtrado a {technology, artificial, futurology}."
   ]
  },
  {
   "cell_type": "markdown",
   "id": "1766adc6",
   "metadata": {},
   "source": [
    "# Instalación y versiones (seguro para Colab; en local puedes comentar la línea pip)"
   ]
  },
  {
   "cell_type": "code",
   "execution_count": 31,
   "id": "7a366421",
   "metadata": {},
   "outputs": [
    {
     "name": "stdout",
     "output_type": "stream",
     "text": [
      "pandas: 2.3.2\n"
     ]
    }
   ],
   "source": [
    "try:\n",
    "    import pandas as pd, pyarrow  # noqa: F401\n",
    "except Exception:\n",
    "    import sys\n",
    "    !{sys.executable} -m pip install -q pandas pyarrow langdetect tqdm matplotlib --upgrade\n",
    "\n",
    "import os, re\n",
    "import numpy as np\n",
    "import pandas as pd\n",
    "from dataclasses import dataclass, field\n",
    "from typing import List\n",
    "from langdetect import detect, DetectorFactory\n",
    "from tqdm.auto import tqdm\n",
    "import matplotlib.pyplot as plt\n",
    "\n",
    "print(\"pandas:\", pd.__version__)"
   ]
  },
  {
   "cell_type": "markdown",
   "id": "752449f4",
   "metadata": {},
   "source": [
    "# Configuración"
   ]
  },
  {
   "cell_type": "code",
   "execution_count": 32,
   "id": "dc45b42c",
   "metadata": {},
   "outputs": [
    {
     "data": {
      "text/plain": [
       "Config(INPUT_PARQUET='../data/silver/silver.parquet', OUTPUT_DIR='../outputs', OUT_ARTIFACTS='../artifacts', COL_ID='id', COL_TITULO='titulo', COL_TEXTO='texto', COL_TITULO_LIMPIO='titulo_limpio', COL_TEXTO_LIMPIO='texto_limpio', COL_SUB='subreddit_nombre', COL_FECHA='fecha_creacion_utc', TARGET_SUBS=['technology', 'artificial', 'futurology'], MIN_LEN_TEXTO=20, ALLOW_LANGS=['es', 'en'], KEEP_COLS=['id', 'subreddit_nombre', 'fecha_creacion_utc', 'titulo', 'texto', 'titulo_limpio', 'texto_limpio', 'puntaje', 'total_comentarios', 'ratio_upvotes', 'autor', 'autor_premium', 'autor_patreon', 'es_adulto', 'es_spoiler', 'solo_media'], DROP_COLS=['miniatura', 'miniatura_alto', 'miniatura_ancho', 'autor_flair_css', 'flair_css', 'autor_flair_richtext_json', 'flair_richtext_json', 'media_json', 'media_segura_json', 'media_embed_json', 'media_segura_embed_json', 'previsualizacion_json', 'datos_galeria_json', 'metadatos_media_json', 'premiadores_json', 'premiaciones_json', 'gildings_json', 'lista_republicaciones_json', 'datos_encuesta_json', 'categorias_contenido_json', 'etiquetas_tratamiento_json', 'raw_payload', 'extras', 'wls', 'pwls', 'estado_lista_blanca', 'estado_lista_blanca_padre'], OUT_PARQUET_CLEAN='silver_clean.parquet', OUT_PARQUET_READY='silver_sentiment_ready.parquet', OUT_DIC='diccionario_variables.csv')"
      ]
     },
     "execution_count": 32,
     "metadata": {},
     "output_type": "execute_result"
    }
   ],
   "source": [
    "DetectorFactory.seed = 42\n",
    "\n",
    "@dataclass\n",
    "class Config:\n",
    "    INPUT_PARQUET: str = \"../data/silver/silver.parquet\"\n",
    "    OUTPUT_DIR: str = \"../outputs\"\n",
    "    OUT_ARTIFACTS: str = \"../artifacts\"\n",
    "\n",
    "    COL_ID: str = \"id\"\n",
    "    COL_TITULO: str = \"titulo\"\n",
    "    COL_TEXTO: str = \"texto\"\n",
    "    COL_TITULO_LIMPIO: str = \"titulo_limpio\"\n",
    "    COL_TEXTO_LIMPIO: str = \"texto_limpio\"\n",
    "    COL_SUB: str = \"subreddit_nombre\"\n",
    "    COL_FECHA: str = \"fecha_creacion_utc\"\n",
    "\n",
    "    TARGET_SUBS: List[str] = field(default_factory=lambda: [\"technology\",\"artificial\",\"futurology\"])\n",
    "    MIN_LEN_TEXTO: int = 20\n",
    "    ALLOW_LANGS: List[str] = field(default_factory=lambda: [\"es\",\"en\"])\n",
    "\n",
    "    KEEP_COLS: List[str] = field(default_factory=lambda: [\n",
    "        \"id\",\"subreddit_nombre\",\"fecha_creacion_utc\",\n",
    "        \"titulo\",\"texto\",\"titulo_limpio\",\"texto_limpio\",\n",
    "        \"puntaje\",\"total_comentarios\",\"ratio_upvotes\",\n",
    "        \"autor\",\"autor_premium\",\"autor_patreon\",\n",
    "        \"es_adulto\",\"es_spoiler\",\"solo_media\"\n",
    "    ])\n",
    "    DROP_COLS: List[str] = field(default_factory=lambda: [\n",
    "        \"miniatura\",\"miniatura_alto\",\"miniatura_ancho\",\n",
    "        \"autor_flair_css\",\"flair_css\",\"autor_flair_richtext_json\",\n",
    "        \"flair_richtext_json\",\"media_json\",\"media_segura_json\",\n",
    "        \"media_embed_json\",\"media_segura_embed_json\",\"previsualizacion_json\",\n",
    "        \"datos_galeria_json\",\"metadatos_media_json\",\"premiadores_json\",\n",
    "        \"premiaciones_json\",\"gildings_json\",\"lista_republicaciones_json\",\n",
    "        \"datos_encuesta_json\",\"categorias_contenido_json\",\"etiquetas_tratamiento_json\",\n",
    "        \"raw_payload\",\"extras\",\"wls\",\"pwls\",\"estado_lista_blanca\",\"estado_lista_blanca_padre\"\n",
    "    ])\n",
    "\n",
    "    OUT_PARQUET_CLEAN: str = \"silver_clean.parquet\"\n",
    "    OUT_PARQUET_READY: str = \"silver_sentiment_ready.parquet\"\n",
    "    OUT_DIC: str = \"diccionario_variables.csv\"\n",
    "\n",
    "cfg = Config()\n",
    "os.makedirs(cfg.OUTPUT_DIR, exist_ok=True)\n",
    "cfg"
   ]
  },
  {
   "cell_type": "markdown",
   "id": "e2b38d0a",
   "metadata": {},
   "source": [
    "# Utilidades"
   ]
  },
  {
   "cell_type": "code",
   "execution_count": 33,
   "id": "fc8beb04",
   "metadata": {},
   "outputs": [],
   "source": [
    "URL_RE = re.compile(r\"http\\S+|www\\.\\S+\")\n",
    "\n",
    "def clean_basic(s: str) -> str:\n",
    "    s = str(s) if s is not None else \"\"\n",
    "    s = URL_RE.sub(\" \", s)\n",
    "    s = re.sub(r\"[\\r\\n\\t]+\", \" \", s)\n",
    "    s = re.sub(r\"\\s{2,}\", \" \", s).strip()\n",
    "    return s.lower()\n",
    "\n",
    "def build_texto_model(row) -> str:\n",
    "    t1 = row.get(cfg.COL_TITULO_LIMPIO) or clean_basic(row.get(cfg.COL_TITULO, \"\"))\n",
    "    t2 = row.get(cfg.COL_TEXTO_LIMPIO) or clean_basic(row.get(cfg.COL_TEXTO, \"\"))\n",
    "    if t1 and t2:\n",
    "        return f\"{t1}\\n{t2}\".strip()\n",
    "    return (t1 or t2).strip()\n",
    "\n",
    "def detect_lang_safe(s: str) -> str:\n",
    "    try:\n",
    "        return detect(s) if s else \"unk\"\n",
    "    except Exception:\n",
    "        return \"unk\"\n",
    "\n",
    "def report(df: pd.DataFrame):\n",
    "    print(\"Forma:\", df.shape)\n",
    "    print(\"Columnas:\", len(df.columns))\n",
    "    print(\"Top nulos:\\n\", df.isna().mean().sort_values(ascending=False).head(10))\n",
    "    if cfg.COL_SUB in df.columns:\n",
    "        print(\"Top subreddits:\\n\", df[cfg.COL_SUB].value_counts().head(10))\n",
    "    if \"texto_model\" in df.columns:\n",
    "        print(\"Longitud media texto:\", df[\"texto_model\"].str.len().mean())\n",
    "\n",
    "def save_parquet(df: pd.DataFrame, path: str):\n",
    "    df.to_parquet(path, index=False)\n",
    "\n",
    "def save_csv(df: pd.DataFrame, path: str):\n",
    "    df.to_csv(path, index=False)\n"
   ]
  },
  {
   "cell_type": "markdown",
   "id": "1ca9f590",
   "metadata": {},
   "source": [
    "# Carga de datos y diagnóstico inicial"
   ]
  },
  {
   "cell_type": "code",
   "execution_count": 34,
   "id": "2778c764",
   "metadata": {},
   "outputs": [
    {
     "name": "stdout",
     "output_type": "stream",
     "text": [
      "Forma: (717137, 88)\n",
      "Columnas: 88\n",
      "Top nulos:\n",
      " id                       0.0\n",
      "titulo                   0.0\n",
      "texto                    0.0\n",
      "autor                    0.0\n",
      "autor_nombre_completo    0.0\n",
      "autor_premium            0.0\n",
      "autor_patreon            0.0\n",
      "autor_flair_texto        0.0\n",
      "autor_flair_css          0.0\n",
      "autor_flair_tipo         0.0\n",
      "dtype: float64\n",
      "Top subreddits:\n",
      " subreddit_nombre\n",
      "politics      105009\n",
      "worldnews     103478\n",
      "technology    102759\n",
      "technews      101551\n",
      "Health        101409\n",
      "Economics     101137\n",
      "business      100977\n",
      "science          500\n",
      "artificial       112\n",
      "Futurology       105\n",
      "Name: count, dtype: int64\n"
     ]
    }
   ],
   "source": [
    "df = pd.read_parquet(cfg.INPUT_PARQUET)\n",
    "\n",
    "for c in [cfg.COL_ID, cfg.COL_SUB, cfg.COL_FECHA]:\n",
    "    assert c in df.columns, f\"Columna requerida ausente: {c}\"\n",
    "assert (\n",
    "    (cfg.COL_TEXTO in df.columns) or (cfg.COL_TEXTO_LIMPIO in df.columns) or\n",
    "    (cfg.COL_TITULO in df.columns) or (cfg.COL_TITULO_LIMPIO in df.columns)\n",
    "), \"No hay texto/título en el dataset\"\n",
    "\n",
    "report(df)"
   ]
  },
  {
   "cell_type": "markdown",
   "id": "e946cb06",
   "metadata": {},
   "source": [
    "# Limpieza: construir texto_model, filtrar media, tipos, duplicados"
   ]
  },
  {
   "cell_type": "code",
   "execution_count": 35,
   "id": "bede1c79",
   "metadata": {},
   "outputs": [
    {
     "name": "stdout",
     "output_type": "stream",
     "text": [
      "0   2025-08-26 05:06:21+00:00\n",
      "Name: fecha_creacion_utc, dtype: datetime64[s, UTC]\n",
      "Forma: (10913, 90)\n",
      "Columnas: 90\n",
      "Top nulos:\n",
      " id                       0.0\n",
      "titulo                   0.0\n",
      "texto                    0.0\n",
      "autor                    0.0\n",
      "autor_nombre_completo    0.0\n",
      "autor_premium            0.0\n",
      "autor_patreon            0.0\n",
      "autor_flair_texto        0.0\n",
      "autor_flair_css          0.0\n",
      "autor_flair_tipo         0.0\n",
      "dtype: float64\n",
      "Top subreddits:\n",
      " subreddit_nombre\n",
      "politics      4716\n",
      "worldnews     2370\n",
      "technology    1575\n",
      "Economics      674\n",
      "business       558\n",
      "technews       321\n",
      "Health         297\n",
      "Futurology     105\n",
      "artificial     104\n",
      "science        100\n",
      "Name: count, dtype: int64\n",
      "Longitud media texto: 129.2212040685421\n"
     ]
    }
   ],
   "source": [
    "df[\"texto_model\"] = df.apply(build_texto_model, axis=1)\n",
    "df[\"longitud_texto\"] = df[\"texto_model\"].str.len()\n",
    "\n",
    "# filtrar media\n",
    "if \"solo_media\" in df.columns:\n",
    "    df = df[~df[\"solo_media\"].fillna(False)]\n",
    "for c in [\"es_video\",\"es_galeria\"]:\n",
    "    if c in df.columns:\n",
    "        df = df[~df[c].fillna(False)]\n",
    "\n",
    "# vacío y min len\n",
    "df = df[df[\"texto_model\"].fillna(\"\") != \"\"]\n",
    "df = df[df[\"longitud_texto\"] >= cfg.MIN_LEN_TEXTO]\n",
    "\n",
    "# duplicados\n",
    "df.drop_duplicates(subset=[cfg.COL_ID], keep=\"first\", inplace=True)\n",
    "\n",
    "# fecha a datetime UTC\n",
    "try:\n",
    "    sec = pd.to_numeric(df[\"fecha_creacion_utc\"], errors=\"coerce\").astype(\"Int64\")\n",
    "    df[\"fecha_creacion_utc\"] = pd.to_datetime(sec, unit=\"s\", utc=True)\n",
    "except Exception:\n",
    "    pass\n",
    "print(df[\"fecha_creacion_utc\"].head(1))\n",
    "report(df)\n"
   ]
  },
  {
   "cell_type": "markdown",
   "id": "652228d7",
   "metadata": {},
   "source": [
    "# Detección de idioma y filtro"
   ]
  },
  {
   "cell_type": "code",
   "execution_count": 36,
   "id": "c94826f8",
   "metadata": {},
   "outputs": [
    {
     "name": "stderr",
     "output_type": "stream",
     "text": [
      "Detectando idioma: 100%|██████████| 10913/10913 [00:18<00:00, 586.02it/s]"
     ]
    },
    {
     "name": "stdout",
     "output_type": "stream",
     "text": [
      "Forma: (10560, 91)\n",
      "Columnas: 91\n",
      "Top nulos:\n",
      " id                       0.0\n",
      "titulo                   0.0\n",
      "texto                    0.0\n",
      "autor                    0.0\n",
      "autor_nombre_completo    0.0\n",
      "autor_premium            0.0\n",
      "autor_patreon            0.0\n",
      "autor_flair_texto        0.0\n",
      "autor_flair_css          0.0\n",
      "autor_flair_tipo         0.0\n",
      "dtype: float64\n",
      "Top subreddits:\n",
      " subreddit_nombre\n",
      "politics      4578\n",
      "worldnews     2250\n",
      "technology    1547\n",
      "Economics      653\n",
      "business       551\n",
      "technews       315\n",
      "Health         291\n",
      "Futurology     103\n",
      "artificial     102\n",
      "science        100\n",
      "Name: count, dtype: int64\n",
      "Longitud media texto: 130.5159090909091\n"
     ]
    },
    {
     "name": "stderr",
     "output_type": "stream",
     "text": [
      "\n"
     ]
    }
   ],
   "source": [
    "tqdm.pandas(desc=\"Detectando idioma\")\n",
    "df[\"idioma_detectado\"] = df[\"texto_model\"].progress_apply(detect_lang_safe)\n",
    "df = df[df[\"idioma_detectado\"].isin(cfg.ALLOW_LANGS)]\n",
    "report(df)"
   ]
  },
  {
   "cell_type": "markdown",
   "id": "5d15ec9b",
   "metadata": {},
   "source": [
    "# Reducción de columnas (drop + keep + orden)"
   ]
  },
  {
   "cell_type": "code",
   "execution_count": 37,
   "id": "00580aed",
   "metadata": {},
   "outputs": [
    {
     "name": "stdout",
     "output_type": "stream",
     "text": [
      "Forma: (10560, 64)\n",
      "Columnas: 64\n",
      "Top nulos:\n",
      " id                    0.0\n",
      "subreddit_nombre      0.0\n",
      "fecha_creacion_utc    0.0\n",
      "titulo                0.0\n",
      "texto                 0.0\n",
      "titulo_limpio         0.0\n",
      "texto_limpio          0.0\n",
      "puntaje               0.0\n",
      "total_comentarios     0.0\n",
      "ratio_upvotes         0.0\n",
      "dtype: float64\n",
      "Top subreddits:\n",
      " subreddit_nombre\n",
      "politics      4578\n",
      "worldnews     2250\n",
      "technology    1547\n",
      "Economics      653\n",
      "business       551\n",
      "technews       315\n",
      "Health         291\n",
      "Futurology     103\n",
      "artificial     102\n",
      "science        100\n",
      "Name: count, dtype: int64\n",
      "Longitud media texto: 130.5159090909091\n"
     ]
    }
   ],
   "source": [
    "drop_exist = [c for c in cfg.DROP_COLS if c in df.columns]\n",
    "df = df.drop(columns=drop_exist, errors=\"ignore\")\n",
    "\n",
    "keep_exist = [c for c in cfg.KEEP_COLS if c in df.columns]\n",
    "ordered = keep_exist + [c for c in [\"texto_model\",\"idioma_detectado\",\"longitud_texto\"] if c in df.columns]\n",
    "rest = [c for c in df.columns if c not in ordered]\n",
    "df = df[ordered + rest]\n",
    "\n",
    "report(df)"
   ]
  },
  {
   "cell_type": "markdown",
   "id": "77bac198",
   "metadata": {},
   "source": [
    "# EDA 1: Histograma de longitud de texto"
   ]
  },
  {
   "cell_type": "code",
   "execution_count": 38,
   "id": "73e4be3e",
   "metadata": {},
   "outputs": [
    {
     "data": {
      "image/png": "[encoded data removed]",
      "text/plain": [
       "<Figure size 800x500 with 1 Axes>"
      ]
     },
     "metadata": {},
     "output_type": "display_data"
    }
   ],
   "source": [
    "import matplotlib.pyplot as plt\n",
    "import seaborn as sns\n",
    "\n",
    "plt.figure(figsize=(8,5))\n",
    "sns.histplot(df[\"longitud_texto\"], bins=50, kde=True, color=\"skyblue\")\n",
    "plt.title(\"Distribución de longitud de texto\")\n",
    "plt.xlabel(\"Número de caracteres en el post\")\n",
    "plt.ylabel(\"Frecuencia\")\n",
    "plt.show()"
   ]
  },
  {
   "cell_type": "code",
   "execution_count": 39,
   "id": "7babd4ca",
   "metadata": {},
   "outputs": [
    {
     "data": {
      "image/png": "[encoded data removed]",
      "text/plain": [
       "<Figure size 800x500 with 1 Axes>"
      ]
     },
     "metadata": {},
     "output_type": "display_data"
    }
   ],
   "source": [
    "plt.figure(figsize=(8,5))\n",
    "sns.histplot(df[\"longitud_texto\"], bins=100, log_scale=True, color=\"orange\")\n",
    "plt.title(\"Distribución logarítmica de longitud de texto\")\n",
    "plt.xlabel(\"Número de caracteres (log)\")\n",
    "plt.ylabel(\"Frecuencia\")\n",
    "plt.show()"
   ]
  },
  {
   "cell_type": "markdown",
   "id": "102915f9",
   "metadata": {},
   "source": [
    "# EDA 2: Conteo por mes"
   ]
  },
  {
   "cell_type": "code",
   "execution_count": 40,
   "id": "56121e60",
   "metadata": {},
   "outputs": [
    {
     "data": {
      "image/png": "[encoded data removed]",
      "text/plain": [
       "<Figure size 1000x400 with 1 Axes>"
      ]
     },
     "metadata": {},
     "output_type": "display_data"
    },
    {
     "data": {
      "image/png": "[encoded data removed]",
      "text/plain": [
       "<Figure size 1000x400 with 1 Axes>"
      ]
     },
     "metadata": {},
     "output_type": "display_data"
    }
   ],
   "source": [
    "# Re-muestreo mensual (inicio de mes)\n",
    "tmp = df.set_index(\"fecha_creacion_utc\").resample(\"MS\").size()\n",
    "\n",
    "import matplotlib.pyplot as plt\n",
    "plt.figure(figsize=(10,4))\n",
    "tmp.plot(marker=\"o\", linewidth=1)\n",
    "plt.title(\"Posts por mes\")\n",
    "plt.xlabel(\"mes\")\n",
    "plt.ylabel(\"conteo\")\n",
    "plt.grid(True, alpha=0.3)\n",
    "plt.show()\n",
    "\n",
    "# (opcional) Suavizado para ver tendencia\n",
    "tmp_rolling = tmp.rolling(3, min_periods=1).mean()\n",
    "plt.figure(figsize=(10,4))\n",
    "tmp.plot(alpha=0.3)\n",
    "tmp_rolling.plot()\n",
    "plt.title(\"Posts por mes (línea suave 3M)\")\n",
    "plt.xlabel(\"mes\")\n",
    "plt.ylabel(\"conteo\")\n",
    "plt.legend([\"mensual\",\"rolling 3M\"])\n",
    "plt.grid(True, alpha=0.3)\n",
    "plt.show()"
   ]
  },
  {
   "cell_type": "markdown",
   "id": "abab77a5",
   "metadata": {},
   "source": [
    "# Análisis rápido de variables numéricas potencialmente informativas"
   ]
  },
  {
   "cell_type": "code",
   "execution_count": 41,
   "id": "98a5f9f6",
   "metadata": {},
   "outputs": [
    {
     "name": "stdout",
     "output_type": "stream",
     "text": [
      "Resumen numérico:\n",
      "                      count        mean          std    min    25%   50%  \\\n",
      "puntaje            10560.0  927.283712  3564.770435   0.00  11.00  64.0   \n",
      "total_comentarios  10560.0   72.954451   208.442329   0.00   4.00  14.0   \n",
      "ratio_upvotes      10560.0    0.822734     0.203054   0.02   0.77   0.9   \n",
      "longitud_texto     10560.0  130.515909   340.252637  20.00  64.00  76.0   \n",
      "\n",
      "                      75%      max  \n",
      "puntaje            331.00  68488.0  \n",
      "total_comentarios   50.00   3727.0  \n",
      "ratio_upvotes        0.96      1.0  \n",
      "longitud_texto      95.00  14452.0  \n",
      "Correlaciones de Spearman:\n",
      "                     puntaje  total_comentarios  ratio_upvotes  longitud_texto\n",
      "puntaje            1.000000           0.709909       0.639761       -0.003131\n",
      "total_comentarios  0.709909           1.000000       0.246628       -0.042755\n",
      "ratio_upvotes      0.639761           0.246628       1.000000        0.071779\n",
      "longitud_texto    -0.003131          -0.042755       0.071779        1.000000\n"
     ]
    }
   ],
   "source": [
    "num_cols = [c for c in [\"puntaje\",\"total_comentarios\",\"ratio_upvotes\",\"longitud_texto\"] if c in df.columns]\n",
    "desc = df[num_cols].describe().T if num_cols else pd.DataFrame()\n",
    "print(\"Resumen numérico:\\n\", desc)\n",
    "if len(num_cols) >= 2:\n",
    "    print(\"Correlaciones de Spearman:\\n\", df[num_cols].corr(method=\"spearman\"))"
   ]
  },
  {
   "cell_type": "markdown",
   "id": "13137bdf",
   "metadata": {},
   "source": [
    "Resumen numérico\n",
    "\t•\tpuntaje (upvotes – downvotes)\n",
    "\t•\tMedia ≈ 927, pero con desviación muy alta (3564).\n",
    "\t•\tMediana = 64 → significa que la mayoría de posts tienen pocos votos, pero hay outliers muy populares (hasta 68 k).\n",
    "\t•\ttotal_comentarios\n",
    "\t•\tMedia ≈ 73, pero mediana = 14.\n",
    "\t•\tIgual que con puntaje: la mayoría de posts tienen pocos comentarios, pero algunos alcanzan miles.\n",
    "\t•\tratio_upvotes\n",
    "\t•\tPromedio ≈ 0.82 (es decir, 82 % de votos positivos).\n",
    "\t•\tEl 75 % de posts tiene ≥ 0.96 → hay un sesgo hacia contenidos con más votos positivos.\n",
    "\t•\tlongitud_texto\n",
    "\t•\tPromedio ≈ 130 caracteres, mediana = 76.\n",
    "\t•\tLa mayoría son textos cortos, pero hay casos extremos de hasta 14 k caracteres (ensayos/largos hilos).\n",
    "\n",
    "⸻\n",
    "\n",
    "🔗 Correlaciones (Spearman)\n",
    "\t•\tpuntaje ↔ total_comentarios = 0.71 (alta)\n",
    "→ Posts con más comentarios suelen tener más puntaje (lo esperado: popularidad general).\n",
    "\t•\tpuntaje ↔ ratio_upvotes = 0.64 (moderada-alta)\n",
    "→ Posts con más votos positivos tienden a acumular más puntaje.\n",
    "\t•\ttotal_comentarios ↔ ratio_upvotes = 0.25 (baja-moderada)\n",
    "→ Algunos posts con discusiones largas no siempre tienen un ratio positivo tan alto (discusiones polémicas).\n",
    "\t•\tlongitud_texto casi no correlaciona\n",
    "\t•\tCon puntaje: -0.003 (nula).\n",
    "\t•\tCon comentarios: -0.04 (muy baja, casi nula).\n",
    "\t•\tCon ratio_upvotes: 0.07 (casi nula).\n",
    "→ La longitud del post no influye directamente en su popularidad o valoración.\n",
    "\n",
    "⸻\n"
   ]
  },
  {
   "cell_type": "markdown",
   "id": "eb7629ca",
   "metadata": {},
   "source": [
    "# Exportar dataset limpio general (antes del filtro de IA)"
   ]
  },
  {
   "cell_type": "code",
   "execution_count": 42,
   "id": "1b93087e",
   "metadata": {},
   "outputs": [
    {
     "name": "stdout",
     "output_type": "stream",
     "text": [
      "Guardado: ../outputs/silver_clean.parquet (10560, 64)\n"
     ]
    }
   ],
   "source": [
    "path_clean = os.path.join(cfg.OUTPUT_DIR, cfg.OUT_PARQUET_CLEAN)\n",
    "save_parquet(df, path_clean)\n",
    "print(\"Guardado:\", path_clean, df.shape)"
   ]
  },
  {
   "cell_type": "markdown",
   "id": "3f5866e4",
   "metadata": {},
   "source": [
    "# Filtro IA: subreddits objetivo"
   ]
  },
  {
   "cell_type": "code",
   "execution_count": 43,
   "id": "3b5a4d41",
   "metadata": {},
   "outputs": [
    {
     "name": "stdout",
     "output_type": "stream",
     "text": [
      "Subreddits encontrados: ['artificial', 'futurology', 'technology']\n",
      "Subreddits faltantes: []\n",
      "Tamaño df_target: (1752, 64)\n",
      "Guardado: ../outputs/silver_sentiment_ready.parquet (1752, 64)\n",
      "Guardado diccionario: ../outputs/diccionario_variables.csv (64, 4)\n"
     ]
    }
   ],
   "source": [
    "subs_obj = set([s.lower() for s in cfg.TARGET_SUBS])\n",
    "present = set(df[cfg.COL_SUB].str.lower().unique()) if cfg.COL_SUB in df.columns else set()\n",
    "encontrados = sorted(subs_obj & present)\n",
    "faltantes = sorted(subs_obj - present)\n",
    "print(\"Subreddits encontrados:\", encontrados)\n",
    "print(\"Subreddits faltantes:\", faltantes)\n",
    "df_target = df[df[cfg.COL_SUB].str.lower().isin(encontrados)] if encontrados else df.head(0).copy()\n",
    "print(\"Tamaño df_target:\", df_target.shape)\n",
    "\n",
    "# Exportar dataset listo para BERT\n",
    "path_ready = os.path.join(cfg.OUTPUT_DIR, cfg.OUT_PARQUET_READY)\n",
    "save_parquet(df_target, path_ready)\n",
    "print(\"Guardado:\", path_ready, df_target.shape)\n",
    "\n",
    "# Diccionario de variables del df_target\n",
    "dic_rows = []\n",
    "for c in df_target.columns:\n",
    "    s = df_target[c]\n",
    "    ex = s.dropna().astype(str).head(1).tolist()\n",
    "    dic_rows.append({\n",
    "        \"columna\": c,\n",
    "        \"dtype\": str(s.dtype),\n",
    "        \"%_nulos\": float(s.isna().mean()*100),\n",
    "        \"ejemplo\": ex[0] if ex else \"\"\n",
    "    })\n",
    "dic_df = pd.DataFrame(dic_rows)\n",
    "path_dic = os.path.join(cfg.OUTPUT_DIR, cfg.OUT_DIC)\n",
    "save_csv(dic_df, path_dic)\n",
    "print(\"Guardado diccionario:\", path_dic, dic_df.shape)"
   ]
  },
  {
   "cell_type": "markdown",
   "id": "15169e09",
   "metadata": {},
   "source": [
    "# Etiquetado débil + splits + balance + truncamiento + export"
   ]
  },
  {
   "cell_type": "code",
   "execution_count": 44,
   "id": "8d014b64",
   "metadata": {},
   "outputs": [],
   "source": [
    "try:\n",
    "    import transformers, torch  \n",
    "except Exception:\n",
    "    !pip install -q transformers torch --upgrade\n",
    "\n",
    "import os, json, math, numpy as np, pandas as pd, torch\n",
    "from pathlib import Path\n",
    "from transformers import AutoTokenizer, AutoModelForSequenceClassification"
   ]
  },
  {
   "cell_type": "markdown",
   "id": "33d7a281",
   "metadata": {},
   "source": [
    "# Usamos df_target si existe (subreddits IA), si no, df (limpio)"
   ]
  },
  {
   "cell_type": "code",
   "execution_count": 45,
   "id": "9541c66d",
   "metadata": {},
   "outputs": [],
   "source": [
    "if \"df_target\" in globals() and isinstance(df_target, pd.DataFrame) and len(df_target):\n",
    "    df_ready = df_target.copy()\n",
    "else:\n",
    "    df_ready = df.copy()\n",
    "\n",
    "assert \"texto_model\" in df_ready.columns, \"No encuentro 'texto_model' en el DataFrame.\"\n",
    "assert \"id\" in df_ready.columns, \"Se requiere columna 'id' para trazabilidad.\""
   ]
  },
  {
   "cell_type": "markdown",
   "id": "43aa1e99",
   "metadata": {},
   "source": [
    "# 1) Etiquetado débil (modelo baseline multilingüe)"
   ]
  },
  {
   "cell_type": "code",
   "execution_count": 46,
   "id": "60dbf63d",
   "metadata": {},
   "outputs": [
    {
     "name": "stdout",
     "output_type": "stream",
     "text": [
      "device: cuda\n",
      "Smoke test → [('pos', 0.07141229510307312, 0.24286100268363953, 0.6857267618179321), ('neg', 0.7511310577392578, 0.23114505410194397, 0.017723867669701576), ('neu', 0.501443088054657, 0.4562471807003021, 0.04230973869562149)]\n"
     ]
    }
   ],
   "source": [
    "# ==== Baseline multilingüe estable para etiquetado débil (1-5 estrellas → neg/neu/pos) ====\n",
    "import torch, numpy as np\n",
    "from transformers import AutoTokenizer, AutoModelForSequenceClassification\n",
    "\n",
    "def pick_device():\n",
    "    if torch.cuda.is_available(): return \"cuda\"\n",
    "    if hasattr(torch.backends, \"mps\") and torch.backends.mps.is_available(): return \"mps\"\n",
    "    return \"cpu\"\n",
    "\n",
    "device_str = pick_device()\n",
    "print(\"device:\", device_str)\n",
    "\n",
    "MODEL_NAME = \"nlptown/bert-base-multilingual-uncased-sentiment\"  # 1..5 estrellas\n",
    "tokenizer = AutoTokenizer.from_pretrained(MODEL_NAME, use_fast=True)\n",
    "model = AutoModelForSequenceClassification.from_pretrained(MODEL_NAME).to(device_str).eval()\n",
    "\n",
    "# Mapear índice de estrella (0..4) a etiqueta 3 clases\n",
    "def _stars_to_label(star_idx: int):\n",
    "    s = star_idx + 1  # 1..5\n",
    "    if s in (1, 2): return \"neg\"\n",
    "    if s == 3:       return \"neu\"\n",
    "    return \"pos\"\n",
    "\n",
    "# Mantengo la MISMA firma que tu pipeline usa: devuelve (label3, p_neg, p_neu, p_pos)\n",
    "def predict_batch(texts, batch_size=64, max_length=256):\n",
    "    rows = []\n",
    "    with torch.no_grad():\n",
    "        for i in range(0, len(texts), batch_size):\n",
    "            batch = texts[i:i+batch_size]\n",
    "            enc = tokenizer(batch, truncation=True, max_length=max_length,\n",
    "                            padding=True, return_tensors=\"pt\")\n",
    "            if device_str in (\"cuda\",\"mps\"):\n",
    "                enc = {k: v.to(device_str) for k, v in enc.items()}\n",
    "            logits = model(**enc).logits               # [B,5]\n",
    "            probs  = torch.softmax(logits, dim=-1).cpu().numpy()\n",
    "            stars  = probs.argmax(axis=-1)             # 0..4\n",
    "            for p, y in zip(probs, stars):\n",
    "                lab3  = _stars_to_label(int(y))\n",
    "                p_neg = float(p[0] + p[1])             # 1-2 estrellas\n",
    "                p_neu = float(p[2])                    # 3 estrellas\n",
    "                p_pos = float(p[3] + p[4])             # 4-5 estrellas\n",
    "                rows.append((lab3, p_neg, p_neu, p_pos))\n",
    "    return rows\n",
    "\n",
    "# Smoke test rápido\n",
    "print(\"Smoke test →\", predict_batch([\"la ia me gusta\", \"no me convence\", \"meh\"], batch_size=3))"
   ]
  },
  {
   "cell_type": "markdown",
   "id": "0d382724",
   "metadata": {},
   "source": [
    "# Deduplicación previa por 'texto_model' para no inferir duplicados exactos"
   ]
  },
  {
   "cell_type": "code",
   "execution_count": 47,
   "id": "6be2748e",
   "metadata": {},
   "outputs": [
    {
     "name": "stdout",
     "output_type": "stream",
     "text": [
      "Deduplicados por texto_model (antes de inferir): 36\n"
     ]
    }
   ],
   "source": [
    "before = len(df_ready)\n",
    "df_ready = df_ready.drop_duplicates(subset=[\"texto_model\"]).reset_index(drop=True)\n",
    "print(f\"Deduplicados por texto_model (antes de inferir): {before - len(df_ready)}\")"
   ]
  },
  {
   "cell_type": "markdown",
   "id": "d900d022",
   "metadata": {},
   "source": [
    "# Inferencia débil (puedes limitar para pruebas: df_ready.head(2000))"
   ]
  },
  {
   "cell_type": "code",
   "execution_count": 48,
   "id": "32de6591",
   "metadata": {},
   "outputs": [
    {
     "name": "stdout",
     "output_type": "stream",
     "text": [
      "Etiquetado débil completado. Distribución:\n",
      "sentimiento_label\n",
      "neg    0.546\n",
      "pos    0.389\n",
      "neu    0.065\n",
      "Name: proportion, dtype: float64\n"
     ]
    }
   ],
   "source": [
    "preds = predict_batch(df_ready[\"texto_model\"].tolist(), batch_size=64, max_length=256)\n",
    "lab, pneg, pneu, ppos = zip(*preds)\n",
    "df_ready[\"sentimiento_label\"] = lab\n",
    "df_ready[\"p_neg\"] = pneg\n",
    "df_ready[\"p_neu\"] = pneu\n",
    "df_ready[\"p_pos\"] = ppos\n",
    "print(\"Etiquetado débil completado. Distribución:\")\n",
    "print(df_ready[\"sentimiento_label\"].value_counts(normalize=True).round(3))"
   ]
  },
  {
   "cell_type": "markdown",
   "id": "72bdac45",
   "metadata": {},
   "source": [
    "# ---------- 2) Esquema de etiquetas y mapeos ----------"
   ]
  },
  {
   "cell_type": "code",
   "execution_count": 49,
   "id": "5412e7bd",
   "metadata": {},
   "outputs": [
    {
     "name": "stdout",
     "output_type": "stream",
     "text": [
      "Guardado mapeo de etiquetas en ../artifacts/label_map.json\n"
     ]
    }
   ],
   "source": [
    "\n",
    "OUT_ARTIFACTS = Path(cfg.OUT_ARTIFACTS)\n",
    "LABEL_MAP = {\"neg\":0, \"neu\":1, \"pos\":2}\n",
    "with open(OUT_ARTIFACTS / \"label_map.json\", \"w\", encoding=\"utf-8\") as f:\n",
    "    json.dump(LABEL_MAP, f, ensure_ascii=False, indent=2)\n",
    "print(\"Guardado mapeo de etiquetas en ../artifacts/label_map.json\")\n",
    "\n",
    "df_ready[\"label\"] = df_ready[\"sentimiento_label\"].map(LABEL_MAP).astype(\"Int64\")"
   ]
  },
  {
   "cell_type": "markdown",
   "id": "ec658020",
   "metadata": {},
   "source": [
    "# 3) Particiones estratificadas (train/val/test)\n"
   ]
  },
  {
   "cell_type": "code",
   "execution_count": 50,
   "id": "b27e9027",
   "metadata": {},
   "outputs": [
    {
     "name": "stdout",
     "output_type": "stream",
     "text": [
      "train size=1372 | dist: {np.int64(0): 0.546, np.int64(1): 0.065, np.int64(2): 0.389}\n",
      "val size=172 | dist: {np.int64(0): 0.547, np.int64(1): 0.064, np.int64(2): 0.39}\n",
      "test size=172 | dist: {np.int64(0): 0.547, np.int64(1): 0.064, np.int64(2): 0.39}\n"
     ]
    }
   ],
   "source": [
    "from sklearn.model_selection import train_test_split\n",
    "# Control: quitar posibles NA en label/texto\n",
    "df_labeled = df_ready.dropna(subset=[\"texto_model\",\"label\"]).reset_index(drop=True)\n",
    "\n",
    "# Split 80/10/10 estratificado\n",
    "train_df, temp_df = train_test_split(\n",
    "    df_labeled, test_size=0.2, stratify=df_labeled[\"label\"], random_state=42\n",
    ")\n",
    "val_df, test_df = train_test_split(\n",
    "    temp_df, test_size=0.5, stratify=temp_df[\"label\"], random_state=42\n",
    ")\n",
    "\n",
    "def dist(name, d):\n",
    "    print(f\"{name} size={len(d)} | dist:\", d[\"label\"].value_counts(normalize=True).sort_index().round(3).to_dict())\n",
    "\n",
    "dist(\"train\", train_df); dist(\"val\", val_df); dist(\"test\", test_df)"
   ]
  },
  {
   "cell_type": "markdown",
   "id": "1078c1a1",
   "metadata": {},
   "source": [
    "# 4) Balance de clases (class weights)"
   ]
  },
  {
   "cell_type": "code",
   "execution_count": 51,
   "id": "48470ff1",
   "metadata": {},
   "outputs": [
    {
     "name": "stdout",
     "output_type": "stream",
     "text": [
      "Class weights (orden neg,neu,pos): [0.277, 2.334, 0.389]\n"
     ]
    }
   ],
   "source": [
    "vc = train_df[\"label\"].value_counts().sort_index()  # 0,1,2\n",
    "class_weights = (1.0 / (vc / vc.sum())).values\n",
    "# Normalizar para que la media sea ~1 (opcional)\n",
    "class_weights = class_weights * (len(class_weights) / class_weights.sum())\n",
    "print(\"Class weights (orden neg,neu,pos):\", class_weights.round(3).tolist())"
   ]
  },
  {
   "cell_type": "markdown",
   "id": "b778f192",
   "metadata": {},
   "source": [
    "# 5) Longitud/tokenización y tasa de truncamiento"
   ]
  },
  {
   "cell_type": "code",
   "execution_count": 52,
   "id": "9db4d5f6",
   "metadata": {},
   "outputs": [
    {
     "name": "stderr",
     "output_type": "stream",
     "text": [
      "Token indices sequence length is longer than the specified maximum sequence length for this model (675 > 512). Running this sequence through the model will result in indexing errors\n"
     ]
    },
    {
     "name": "stdout",
     "output_type": "stream",
     "text": [
      "Stats de tokens (train): {'mean_tokens': 38.63192419825073, 'p50': 20, 'p90': 48, 'p95': 79, 'p99': 413, 'max': 1824, 'trunc_rate_at_max_length': 0.02040816326530612}\n"
     ]
    }
   ],
   "source": [
    "def token_lengths(texts, sample_n=20000, max_length=256):\n",
    "    # muestreo para acelerar en datasets grandes\n",
    "    if len(texts) > sample_n:\n",
    "        texts = texts.sample(sample_n, random_state=42)\n",
    "    enc = tokenizer(texts.tolist(), truncation=False, padding=False)\n",
    "    lens = [len(x) for x in enc[\"input_ids\"]]\n",
    "    arr = np.array(lens)\n",
    "    trunc_rate = float((arr > max_length).mean())\n",
    "    stats = {\n",
    "        \"mean_tokens\": float(arr.mean()),\n",
    "        \"p50\": int(np.percentile(arr, 50)),\n",
    "        \"p90\": int(np.percentile(arr, 90)),\n",
    "        \"p95\": int(np.percentile(arr, 95)),\n",
    "        \"p99\": int(np.percentile(arr, 99)),\n",
    "        \"max\": int(arr.max()),\n",
    "        \"trunc_rate_at_max_length\": trunc_rate,\n",
    "    }\n",
    "    return stats\n",
    "\n",
    "MAX_LENGTH = 256  # ajustable\n",
    "len_stats = token_lengths(train_df[\"texto_model\"], max_length=MAX_LENGTH)\n",
    "print(\"Stats de tokens (train):\", len_stats)"
   ]
  },
  {
   "cell_type": "markdown",
   "id": "2205f0bb",
   "metadata": {},
   "source": [
    "# 6) Control de calidad adicional"
   ]
  },
  {
   "cell_type": "code",
   "execution_count": 53,
   "id": "13c0528b",
   "metadata": {},
   "outputs": [
    {
     "name": "stdout",
     "output_type": "stream",
     "text": [
      "Removidos outliers por longitud: 2\n",
      "Filtrados por idioma a {'en', 'es'}: 0 removidos\n"
     ]
    }
   ],
   "source": [
    "# - Filtrar outliers de longitud extrema (p99.9 de caracteres)\n",
    "q_hi = df_labeled[\"longitud_texto\"].quantile(0.999) if \"longitud_texto\" in df_labeled.columns else None\n",
    "if q_hi is not None:\n",
    "    n_before = len(df_labeled)\n",
    "    df_labeled = df_labeled[df_labeled[\"longitud_texto\"].between(20, q_hi)]\n",
    "    print(f\"Removidos outliers por longitud: {n_before - len(df_labeled)}\")\n",
    "\n",
    "# (Opcional) reforzar filtro de idioma si existe\n",
    "if \"idioma_detectado\" in df_labeled.columns:\n",
    "    keep_langs = {\"es\",\"en\"}\n",
    "    n_before = len(df_labeled)\n",
    "    df_labeled = df_labeled[df_labeled[\"idioma_detectado\"].isin(keep_langs)]\n",
    "    print(f\"Filtrados por idioma a {keep_langs}: {n_before - len(df_labeled)} removidos\")\n"
   ]
  },
  {
   "cell_type": "markdown",
   "id": "befac4eb",
   "metadata": {},
   "source": [
    "# 7) Guardar dataset final"
   ]
  },
  {
   "cell_type": "code",
   "execution_count": 54,
   "id": "5b35ac40",
   "metadata": {},
   "outputs": [],
   "source": [
    "OUT_DATA = Path(\"../data/silver\")\n",
    "OUT_DATA.mkdir(parents=True, exist_ok=True)\n",
    "final_path = OUT_DATA / \"silver_sentimiento_IA.parquet\""
   ]
  },
  {
   "cell_type": "code",
   "execution_count": 55,
   "id": "5a4aa6ca",
   "metadata": {},
   "outputs": [
    {
     "name": "stdout",
     "output_type": "stream",
     "text": [
      "Dataset final guardado en: ../data/silver/silver_sentimiento_IA.parquet  | filas=1714  | cols=69\n"
     ]
    }
   ],
   "source": [
    "# Orden sugerido para entrenamiento + metadatos útiles\n",
    "cols_first = [\"id\",\"subreddit_nombre\",\"fecha_creacion_utc\",\"texto_model\",\"sentimiento_label\",\"label\",\"p_neg\",\"p_neu\",\"p_pos\"]\n",
    "cols_exist = [c for c in cols_first if c in df_labeled.columns]\n",
    "df_final = pd.concat([df_labeled[cols_exist], df_labeled.drop(columns=[c for c in cols_exist if c in df_labeled.columns])], axis=1)\n",
    "\n",
    "df_final.to_parquet(final_path, index=False)\n",
    "print(f\"Dataset final guardado en: {final_path}  | filas={len(df_final)}  | cols={len(df_final.columns)}\")\n"
   ]
  },
  {
   "cell_type": "code",
   "execution_count": 56,
   "id": "b4f0183b",
   "metadata": {},
   "outputs": [
    {
     "name": "stdout",
     "output_type": "stream",
     "text": [
      "\n",
      "================ CHECKLIST ENTRENAMIENTO ================\n",
      "- Dataset: silver_sentimiento_IA.parquet (filas=1714)\n",
      "- Etiquetas: neg=0, neu=1, pos=2  (guardado en ../artifacts/label_map.json)\n",
      "- Splits: train=1372, val=172, test=172 (estratificados)\n",
      "- Class weights (usar en CrossEntropyLoss, en orden [neg, neu, pos]): [0.277, 2.334, 0.389]\n",
      "- MAX_LENGTH=256 → tasa de truncamiento (train): 0.020\n",
      "- Deduplicación por texto aplicada antes del etiquetado débil\n",
      "- Outliers de longitud filtrados (p99.9) y verificación de idioma (es/en)\n",
      "- Recomendado en Lightning:\n",
      "    - LR=2e-5, batch=16, epochs=3, precision=16-mixed, early stopping en val_f1_macro\n",
      "    - Métricas: accuracy, F1 macro; guardar mejor checkpoint por F1 macro\n",
      "==========================================================\n"
     ]
    }
   ],
   "source": [
    "# ---------- Checklist de entrenamiento ----------\n",
    "print(\"\\n================ CHECKLIST ENTRENAMIENTO ================\")\n",
    "print(f\"- Dataset: {final_path.name} (filas={len(df_final)})\")\n",
    "print(\"- Etiquetas: neg=0, neu=1, pos=2  (guardado en ../artifacts/label_map.json)\")\n",
    "print(f\"- Splits: train={len(train_df)}, val={len(val_df)}, test={len(test_df)} (estratificados)\")\n",
    "print(f\"- Class weights (usar en CrossEntropyLoss, en orden [neg, neu, pos]): {class_weights.round(3).tolist()}\")\n",
    "print(f\"- MAX_LENGTH={MAX_LENGTH} → tasa de truncamiento (train): {len_stats['trunc_rate_at_max_length']:.3f}\")\n",
    "print(\"- Deduplicación por texto aplicada antes del etiquetado débil\")\n",
    "print(\"- Outliers de longitud filtrados (p99.9) y verificación de idioma (es/en)\")\n",
    "print(\"- Recomendado en Lightning:\")\n",
    "print(\"    - LR=2e-5, batch=16, epochs=3, precision=16-mixed, early stopping en val_f1_macro\")\n",
    "print(\"    - Métricas: accuracy, F1 macro; guardar mejor checkpoint por F1 macro\")\n",
    "print(\"==========================================================\")"
   ]
  },
  {
   "cell_type": "markdown",
   "id": "a3c3f5ea",
   "metadata": {},
   "source": [
    "# Confianza mínima y re-splits"
   ]
  },
  {
   "cell_type": "code",
   "execution_count": 57,
   "id": "ddc246c4",
   "metadata": {},
   "outputs": [
    {
     "name": "stdout",
     "output_type": "stream",
     "text": [
      "Alta conf (antes de minado): 1160 | dist: {np.int64(0): 0.606, np.int64(1): 0.003, np.int64(2): 0.391}\n",
      "🔎 Neutrales insuficientes (4); minando 56 desde baja confianza…\n",
      "➕ Añadidos neutrales: 56 | neutrales totales ahora: 60\n",
      "Alta conf (después de minado): 1216 | dist: {np.int64(0): 0.578, np.int64(1): 0.049, np.int64(2): 0.373}\n",
      "Clases presentes para split: [0, 1, 2]\n",
      "train: 972 | {np.int64(0): 0.578, np.int64(1): 0.049, np.int64(2): 0.372}\n",
      "val: 122 | {np.int64(0): 0.574, np.int64(1): 0.049, np.int64(2): 0.377}\n",
      "test: 122 | {np.int64(0): 0.582, np.int64(1): 0.049, np.int64(2): 0.369}\n",
      "Stratify usado: True\n",
      "⚖️ Class weights: [0.21, 2.463, 0.327] | labels_present: [0, 1, 2]\n",
      "💾 Guardados splits en ../data/silver y pesos en ../artifacts/class_weights.json\n"
     ]
    }
   ],
   "source": [
    "# ============================================================\n",
    "# Re-minado de NEUTRALES desde baja confianza + splits 3 clases\n",
    "# ============================================================\n",
    "import numpy as np\n",
    "import pandas as pd\n",
    "from pathlib import Path\n",
    "from sklearn.model_selection import train_test_split\n",
    "import json\n",
    "\n",
    "DATA_ALL = Path(\"../data/silver/silver_sentimiento_IA.parquet\")\n",
    "PEND_LO  = Path(\"../data/silver/para_revision_baja_confianza.parquet\")  # generado antes\n",
    "OUT_DIR  = Path(\"../data/silver\"); OUT_DIR.mkdir(parents=True, exist_ok=True)\n",
    "ART_DIR  = Path(\"../artifacts\");   ART_DIR.mkdir(parents=True, exist_ok=True)\n",
    "\n",
    "# Objetivo mínimo de neutrales para que el stratify sea estable (ajusta si quieres)\n",
    "TARGET_NEU_MIN = 60  # ~ garantiza al menos 6 en val y test y buen entrenamiento\n",
    "TEST_SIZE      = 0.2\n",
    "VAL_FROM_TEMP  = 0.5\n",
    "RANDOM_STATE   = 42\n",
    "EPS            = 1e-6\n",
    "\n",
    "# 1) Cargar datasets\n",
    "df_all = pd.read_parquet(DATA_ALL)\n",
    "if PEND_LO.exists():\n",
    "    df_lo = pd.read_parquet(PEND_LO)\n",
    "else:\n",
    "    # reconstruir \"baja confianza\" como complemento (por si faltara el archivo)\n",
    "    assert {\"p_neg\",\"p_neu\",\"p_pos\",\"sentimiento_label\"}.issubset(df_all.columns)\n",
    "    conf = df_all[[\"p_neg\",\"p_neu\",\"p_pos\"]].max(axis=1)\n",
    "    # umbral de tu última corrida (aprox): neg/pos 0.60; neu 0.45\n",
    "    mask_hi = (\n",
    "        ((df_all[\"sentimiento_label\"]==\"neg\") & (df_all[\"p_neg\"]>=0.60)) |\n",
    "        ((df_all[\"sentimiento_label\"]==\"pos\") & (df_all[\"p_pos\"]>=0.60)) |\n",
    "        ((df_all[\"sentimiento_label\"]==\"neu\") & (df_all[\"p_neu\"]>=0.45))\n",
    "    )\n",
    "    df_lo = df_all[~mask_hi].copy()\n",
    "\n",
    "# 2) Reconstruir df_hi como alta confianza con los umbrales previos\n",
    "df_hi = df_all[\n",
    "    ((df_all[\"sentimiento_label\"]==\"neg\") & (df_all[\"p_neg\"]>=0.60)) |\n",
    "    ((df_all[\"sentimiento_label\"]==\"pos\") & (df_all[\"p_pos\"]>=0.60)) |\n",
    "    ((df_all[\"sentimiento_label\"]==\"neu\") & (df_all[\"p_neu\"]>=0.45))\n",
    "].copy()\n",
    "\n",
    "def dist(d):\n",
    "    return d[\"label\"].value_counts(normalize=True).sort_index().round(3).to_dict()\n",
    "\n",
    "print(f\"Alta conf (antes de minado): {len(df_hi)} | dist:\", dist(df_hi))\n",
    "\n",
    "# 3) Si neutrales son escasos, re-minar desde baja confianza por p_neu descendente\n",
    "current_neu = int((df_hi[\"label\"]==1).sum())\n",
    "if current_neu < TARGET_NEU_MIN:\n",
    "    need = TARGET_NEU_MIN - current_neu\n",
    "    print(f\"🔎 Neutrales insuficientes ({current_neu}); minando {need} desde baja confianza…\")\n",
    "\n",
    "    # Candidatos neutrales en baja confianza:\n",
    "    # prioridad: mayor p_neu y margen neutro razonable frente a otras clases\n",
    "    cand = df_lo[df_lo[\"sentimiento_label\"]==\"neu\"].copy()\n",
    "    if len(cand) == 0:\n",
    "        print(\"No hay candidatos neutrales en baja confianza. No se añaden neutrales.\")\n",
    "    else:\n",
    "        cand[\"margin_neu\"] = cand[\"p_neu\"] - cand[[\"p_neg\",\"p_pos\"]].max(axis=1)\n",
    "        # ordenar por p_neu y margen\n",
    "        cand = cand.sort_values([\"p_neu\",\"margin_neu\"], ascending=False)\n",
    "        pick = cand.head(need)\n",
    "        # unir a df_hi, evitando duplicados por id\n",
    "        before = len(df_hi)\n",
    "        df_hi = pd.concat([df_hi, pick], axis=0).drop_duplicates(subset=[\"id\"]).reset_index(drop=True)\n",
    "        print(f\"➕ Añadidos neutrales: {len(df_hi)-before} | neutrales totales ahora: {(df_hi['label']==1).sum()}\")\n",
    "\n",
    "# 4) Si todavía faltan neutrales, relajar p_neu escalonadamente\n",
    "current_neu = int((df_hi[\"label\"]==1).sum())\n",
    "if current_neu < TARGET_NEU_MIN:\n",
    "    for th in [0.44, 0.43, 0.42, 0.41, 0.40, 0.39, 0.38]:\n",
    "        need = TARGET_NEU_MIN - current_neu\n",
    "        if need <= 0: break\n",
    "        extra = df_all[\n",
    "            (df_all[\"sentimiento_label\"]==\"neu\") &\n",
    "            (df_all[\"p_neu\"]>=th)\n",
    "        ].copy().sort_values(\"p_neu\", ascending=False)\n",
    "        # quitar los que ya están\n",
    "        extra = extra[~extra[\"id\"].isin(df_hi[\"id\"])]\n",
    "        if len(extra) == 0: continue\n",
    "        add = extra.head(need)\n",
    "        before = len(df_hi)\n",
    "        df_hi = pd.concat([df_hi, add], axis=0).drop_duplicates(subset=[\"id\"]).reset_index(drop=True)\n",
    "        current_neu = int((df_hi[\"label\"]==1).sum())\n",
    "        print(f\"→ Relajado TH_NEU={th:.2f} | neutrales={current_neu}\")\n",
    "        if current_neu >= TARGET_NEU_MIN: break\n",
    "\n",
    "print(f\"Alta conf (después de minado): {len(df_hi)} | dist:\", dist(df_hi))\n",
    "\n",
    "# 5) Comprobar clases presentes\n",
    "present = sorted(df_hi[\"label\"].unique().tolist())\n",
    "if len(present) < 2:\n",
    "    raise RuntimeError(\"No hay suficientes clases para entrenar. Revisa los umbrales.\")\n",
    "# Si siguen 3 clases pero neu muy rara (<2 ejemplos), caeremos a binario para garantizar estabilidad\n",
    "min_per_class = df_hi[\"label\"].value_counts().min()\n",
    "if len(present)==3 and min_per_class < 2:\n",
    "    print(\"⚠️ Aún hay clase con <2 muestras. Pasando a binario (neg vs pos) para entrenamiento estable.\")\n",
    "    df_hi = df_hi[df_hi[\"label\"].isin([0,2])].copy()\n",
    "    present = sorted(df_hi[\"label\"].unique().tolist())\n",
    "\n",
    "print(\"Clases presentes para split:\", present)\n",
    "\n",
    "# 6) Split estratificado; si falla, fallback sin estratify (muy poco probable ya)\n",
    "def safe_splits(df, stratify=True):\n",
    "    if stratify:\n",
    "        try:\n",
    "            tr, tmp = train_test_split(df, test_size=TEST_SIZE, stratify=df[\"label\"], random_state=RANDOM_STATE)\n",
    "            va, te = train_test_split(tmp, test_size=VAL_FROM_TEMP, stratify=tmp[\"label\"], random_state=RANDOM_STATE)\n",
    "            return tr, va, te, True\n",
    "        except Exception as e:\n",
    "            print(\"⚠️ Stratify falló:\", repr(e))\n",
    "    tr, tmp = train_test_split(df, test_size=TEST_SIZE, random_state=RANDOM_STATE)\n",
    "    va, te = train_test_split(tmp, test_size=VAL_FROM_TEMP, random_state=RANDOM_STATE)\n",
    "    return tr, va, te, False\n",
    "\n",
    "train_df, val_df, test_df, used_stratify = safe_splits(df_hi, stratify=True)\n",
    "\n",
    "def pr(name, d):\n",
    "    vc = d[\"label\"].value_counts(normalize=True).sort_index().round(3).to_dict()\n",
    "    print(f\"{name}: {len(d)} | {vc}\")\n",
    "pr(\"train\", train_df); pr(\"val\", val_df); pr(\"test\", test_df)\n",
    "print(\"Stratify usado:\", used_stratify)\n",
    "\n",
    "# 7) Guardar splits y recalcular class_weights en el orden de 'present'\n",
    "train_path = OUT_DIR/\"train.parquet\"\n",
    "val_path   = OUT_DIR/\"val.parquet\"\n",
    "test_path  = OUT_DIR/\"test.parquet\"\n",
    "train_df.to_parquet(train_path, index=False)\n",
    "val_df.to_parquet(val_path, index=False)\n",
    "test_df.to_parquet(test_path, index=False)\n",
    "\n",
    "vc_train = train_df[\"label\"].value_counts().sort_index()\n",
    "labels_present = vc_train.index.tolist()\n",
    "freq = (vc_train / vc_train.sum()).values\n",
    "inv = 1.0 / np.maximum(freq, EPS)\n",
    "class_weights = inv * (len(inv)/inv.sum())\n",
    "\n",
    "with open(ART_DIR/\"class_weights.json\", \"w\") as f:\n",
    "    json.dump({\n",
    "        \"labels_present\": labels_present,\n",
    "        \"class_weights\": {str(i): float(w) for i, w in enumerate(class_weights)},\n",
    "        \"used_stratify\": bool(used_stratify),\n",
    "        \"target_neu_min\": int(TARGET_NEU_MIN)\n",
    "    }, f, indent=2)\n",
    "\n",
    "print(\"⚖️ Class weights:\", np.round(class_weights, 3).tolist(), \"| labels_present:\", labels_present)\n",
    "print(\"💾 Guardados splits en ../data/silver y pesos en ../artifacts/class_weights.json\")"
   ]
  },
  {
   "cell_type": "markdown",
   "id": "2f8aa8e0",
   "metadata": {},
   "source": [
    "splits quedaron bien balanceados y estratificados con las 3 clases presentes:\n",
    "\t•\ttrain/val/test con ~5% neutrales en cada split ✅\n",
    "\t•\tStratify usado: True ✅\n",
    "\t•\tclass_weights = [0.21, 2.463, 0.327] en orden [neg, neu, pos] (peso alto para neutral, como era de esperar) ✅"
   ]
  },
  {
   "cell_type": "code",
   "execution_count": 58,
   "id": "c699db96",
   "metadata": {},
   "outputs": [
    {
     "name": "stdout",
     "output_type": "stream",
     "text": [
      "INICIANDO ENTRENAMIENTO DE MODELO DE SENTIMIENTOS\n",
      "============================================================\n",
      "CUDA disponible: NVIDIA H200\n",
      "   Precisión: bf16-mixed\n",
      "   VRAM disponible: 150.1 GB\n",
      "Directorios creados: checkpoints, plots\n",
      "\n",
      "CARGANDO DATOS...\n",
      "Datos cargados exitosamente:\n",
      "   Columna de texto: 'texto_model'\n",
      "   Total muestras: 1,216\n",
      "   Train: 972 (79.9%)\n",
      "   Val: 122 (10.0%)\n",
      "   Test: 122 (10.0%)\n",
      "\n",
      "Distribución de clases (train):\n",
      "   0: Negativo: 562 (57.8%)\n",
      "   1: Neutro: 48 (4.9%)\n",
      "   2: Positivo: 362 (37.2%)\n",
      "\n",
      "CONFIGURANDO COMPONENTES DEL MODELO...\n",
      "Modelo configurado: xlm-roberta-base\n",
      "   Vocabulario: 250,002 tokens\n",
      "   Clases: 3\n",
      "\n",
      "CONFIGURANDO PESOS POR CLASE...\n",
      "Pesos cargados desde archivo\n",
      "   Pesos finales: [0.21, 2.463, 0.327]\n"
     ]
    },
    {
     "name": "stderr",
     "output_type": "stream",
     "text": [
      "Some weights of XLMRobertaForSequenceClassification were not initialized from the model checkpoint at xlm-roberta-base and are newly initialized: ['classifier.dense.bias', 'classifier.dense.weight', 'classifier.out_proj.bias', 'classifier.out_proj.weight']\n",
      "You should probably TRAIN this model on a down-stream task to be able to use it for predictions and inference.\n"
     ]
    },
    {
     "name": "stdout",
     "output_type": "stream",
     "text": [
      "Gradient checkpointing habilitado\n",
      "\n",
      "INICIANDO ENTRENAMIENTO...\n",
      "   Épocas: 3\n",
      "   Objetivo: Maximizar F1-macro en validación\n"
     ]
    },
    {
     "name": "stderr",
     "output_type": "stream",
     "text": [
      "Using bfloat16 Automatic Mixed Precision (AMP)\n",
      "GPU available: True (cuda), used: True\n",
      "TPU available: False, using: 0 TPU cores\n",
      "HPU available: False, using: 0 HPUs\n",
      "LOCAL_RANK: 0 - CUDA_VISIBLE_DEVICES: [0,1,2,3,4,5,6,7]\n"
     ]
    },
    {
     "name": "stdout",
     "output_type": "stream",
     "text": [
      "\n",
      "Configuración actual:\n",
      "   Batch size: 32\n",
      "   Grad accumulation: 1\n",
      "   Precisión: bf16-mixed\n"
     ]
    },
    {
     "name": "stderr",
     "output_type": "stream",
     "text": [
      "Loading `train_dataloader` to estimate number of stepping batches.\n",
      "\n",
      "   | Name              | Type                                | Params | Mode \n",
      "-----------------------------------------------------------------------------------\n",
      "0  | model             | XLMRobertaForSequenceClassification | 278 M  | eval \n",
      "1  | loss_fn           | CrossEntropyLoss                    | 0      | train\n",
      "2  | train_acc         | MulticlassAccuracy                  | 0      | train\n",
      "3  | train_f1_macro    | MulticlassF1Score                   | 0      | train\n",
      "4  | train_f1_weighted | MulticlassF1Score                   | 0      | train\n",
      "5  | val_acc           | MulticlassAccuracy                  | 0      | train\n",
      "6  | val_f1_macro      | MulticlassF1Score                   | 0      | train\n",
      "7  | val_f1_weighted   | MulticlassF1Score                   | 0      | train\n",
      "8  | test_acc          | MulticlassAccuracy                  | 0      | train\n",
      "9  | test_f1_macro     | MulticlassF1Score                   | 0      | train\n",
      "10 | test_f1_weighted  | MulticlassF1Score                   | 0      | train\n",
      "-----------------------------------------------------------------------------------\n",
      "278 M     Trainable params\n",
      "0         Non-trainable params\n",
      "278 M     Total params\n",
      "1,112.184 Total estimated model params size (MB)\n",
      "10        Modules in train mode\n",
      "230       Modules in eval mode\n"
     ]
    },
    {
     "name": "stdout",
     "output_type": "stream",
     "text": [
      "Epoch 0:  48%|████▊     | 15/31 [00:00<00:00, 16.42it/s, v_num=10, train_loss_step=1.150]"
     ]
    },
    {
     "name": "stderr",
     "output_type": "stream",
     "text": [
      "Metric val_f1_macro improved. New best score: 0.182\n"
     ]
    },
    {
     "name": "stdout",
     "output_type": "stream",
     "text": [
      "Epoch 0:  48%|████▊     | 15/31 [00:01<00:01, 14.58it/s, v_num=10, train_loss_step=1.150, val_loss=1.100, val_acc=0.333, val_f1_macro=0.182]"
     ]
    },
    {
     "name": "stderr",
     "output_type": "stream",
     "text": [
      "Epoch 0, global step 15: 'val_f1_macro' reached 0.18150 (best 0.18150), saving model to '/home/froserop/aprendizaje-profundo/proyecto/artifacts/checkpoints/sentiment-xlmr-epoch=00-val_f1_macro=0.182.ckpt' as top 1\n"
     ]
    },
    {
     "name": "stdout",
     "output_type": "stream",
     "text": [
      "Epoch 0:  97%|█████████▋| 30/31 [00:20<00:00,  1.48it/s, v_num=10, train_loss_step=1.060, val_loss=1.100, val_acc=0.333, val_f1_macro=0.182]"
     ]
    },
    {
     "name": "stderr",
     "output_type": "stream",
     "text": [
      "Metric val_f1_macro improved by 0.209 >= min_delta = 0.001. New best score: 0.390\n"
     ]
    },
    {
     "name": "stdout",
     "output_type": "stream",
     "text": [
      "Epoch 0:  97%|█████████▋| 30/31 [00:20<00:00,  1.47it/s, v_num=10, train_loss_step=1.060, val_loss=1.080, val_acc=0.455, val_f1_macro=0.390]"
     ]
    },
    {
     "name": "stderr",
     "output_type": "stream",
     "text": [
      "Epoch 0, global step 30: 'val_f1_macro' reached 0.39012 (best 0.39012), saving model to '/home/froserop/aprendizaje-profundo/proyecto/artifacts/checkpoints/sentiment-xlmr-epoch=00-val_f1_macro=0.390.ckpt' as top 1\n"
     ]
    },
    {
     "name": "stdout",
     "output_type": "stream",
     "text": [
      "Epoch 1:  48%|████▊     | 15/31 [00:01<00:01, 14.02it/s, v_num=10, train_loss_step=0.958, val_loss=1.080, val_acc=0.455, val_f1_macro=0.390, train_loss_epoch=1.090, train_acc=0.377]"
     ]
    },
    {
     "name": "stderr",
     "output_type": "stream",
     "text": [
      "Metric val_f1_macro improved by 0.169 >= min_delta = 0.001. New best score: 0.559\n"
     ]
    },
    {
     "name": "stdout",
     "output_type": "stream",
     "text": [
      "Epoch 1:  48%|████▊     | 15/31 [00:01<00:01, 12.92it/s, v_num=10, train_loss_step=0.958, val_loss=0.882, val_acc=0.584, val_f1_macro=0.559, train_loss_epoch=1.090, train_acc=0.377]"
     ]
    },
    {
     "name": "stderr",
     "output_type": "stream",
     "text": [
      "Epoch 1, global step 46: 'val_f1_macro' reached 0.55944 (best 0.55944), saving model to '/home/froserop/aprendizaje-profundo/proyecto/artifacts/checkpoints/sentiment-xlmr-epoch=01-val_f1_macro=0.559.ckpt' as top 1\n"
     ]
    },
    {
     "name": "stdout",
     "output_type": "stream",
     "text": [
      "Epoch 1:  97%|█████████▋| 30/31 [00:23<00:00,  1.28it/s, v_num=10, train_loss_step=0.673, val_loss=0.882, val_acc=0.584, val_f1_macro=0.559, train_loss_epoch=1.090, train_acc=0.377]"
     ]
    },
    {
     "name": "stderr",
     "output_type": "stream",
     "text": [
      "Metric val_f1_macro improved by 0.066 >= min_delta = 0.001. New best score: 0.626\n"
     ]
    },
    {
     "name": "stdout",
     "output_type": "stream",
     "text": [
      "Epoch 1:  97%|█████████▋| 30/31 [00:23<00:00,  1.27it/s, v_num=10, train_loss_step=0.673, val_loss=0.828, val_acc=0.644, val_f1_macro=0.626, train_loss_epoch=1.090, train_acc=0.377]"
     ]
    },
    {
     "name": "stderr",
     "output_type": "stream",
     "text": [
      "Epoch 1, global step 61: 'val_f1_macro' reached 0.62583 (best 0.62583), saving model to '/home/froserop/aprendizaje-profundo/proyecto/artifacts/checkpoints/sentiment-xlmr-epoch=01-val_f1_macro=0.626.ckpt' as top 1\n"
     ]
    },
    {
     "name": "stdout",
     "output_type": "stream",
     "text": [
      "Epoch 2:  48%|████▊     | 15/31 [00:00<00:00, 17.77it/s, v_num=10, train_loss_step=0.510, val_loss=0.828, val_acc=0.644, val_f1_macro=0.626, train_loss_epoch=0.847, train_acc=0.642]"
     ]
    },
    {
     "name": "stderr",
     "output_type": "stream",
     "text": [
      "Metric val_f1_macro improved by 0.003 >= min_delta = 0.001. New best score: 0.629\n"
     ]
    },
    {
     "name": "stdout",
     "output_type": "stream",
     "text": [
      "Epoch 2:  48%|████▊     | 15/31 [00:00<00:01, 15.59it/s, v_num=10, train_loss_step=0.510, val_loss=0.935, val_acc=0.636, val_f1_macro=0.629, train_loss_epoch=0.847, train_acc=0.642]"
     ]
    },
    {
     "name": "stderr",
     "output_type": "stream",
     "text": [
      "Epoch 2, global step 77: 'val_f1_macro' reached 0.62918 (best 0.62918), saving model to '/home/froserop/aprendizaje-profundo/proyecto/artifacts/checkpoints/sentiment-xlmr-epoch=02-val_f1_macro=0.629-v1.ckpt' as top 1\n"
     ]
    },
    {
     "name": "stdout",
     "output_type": "stream",
     "text": [
      "Epoch 2:  97%|█████████▋| 30/31 [00:23<00:00,  1.25it/s, v_num=10, train_loss_step=0.726, val_loss=0.872, val_acc=0.624, val_f1_macro=0.612, train_loss_epoch=0.847, train_acc=0.642]"
     ]
    },
    {
     "name": "stderr",
     "output_type": "stream",
     "text": [
      "Epoch 2, global step 92: 'val_f1_macro' was not in top 1\n"
     ]
    },
    {
     "name": "stdout",
     "output_type": "stream",
     "text": [
      "Epoch 2: 100%|██████████| 31/31 [00:35<00:00,  0.86it/s, v_num=10, train_loss_step=0.388, val_loss=0.872, val_acc=0.624, val_f1_macro=0.612, train_loss_epoch=0.539, train_acc=0.745]"
     ]
    },
    {
     "name": "stderr",
     "output_type": "stream",
     "text": [
      "`Trainer.fit` stopped: `max_epochs=3` reached.\n"
     ]
    },
    {
     "name": "stdout",
     "output_type": "stream",
     "text": [
      "Epoch 2: 100%|██████████| 31/31 [00:35<00:00,  0.86it/s, v_num=10, train_loss_step=0.388, val_loss=0.872, val_acc=0.624, val_f1_macro=0.612, train_loss_epoch=0.539, train_acc=0.745]\n"
     ]
    },
    {
     "name": "stderr",
     "output_type": "stream",
     "text": [
      "LOCAL_RANK: 0 - CUDA_VISIBLE_DEVICES: [0,1,2,3,4,5,6,7]\n"
     ]
    },
    {
     "name": "stdout",
     "output_type": "stream",
     "text": [
      "\n",
      "ENTRENAMIENTO COMPLETADO!\n",
      "   Tiempo total: 128.9s (2.1 min)\n",
      "   Mejor modelo: /home/froserop/aprendizaje-profundo/proyecto/artifacts/checkpoints/sentiment-xlmr-epoch=02-val_f1_macro=0.629-v1.ckpt\n",
      "   Mejor F1-macro: 0.6292\n",
      "\n",
      "EVALUANDO EN TEST SET...\n",
      "Testing DataLoader 0: 100%|██████████| 2/2 [00:00<00:00, 26.12it/s]\n",
      "────────────────────────────────────────────────────────────────────────────────────────────────────────────────────────\n",
      "       Test metric             DataLoader 0\n",
      "────────────────────────────────────────────────────────────────────────────────────────────────────────────────────────\n",
      "        test_acc            0.7095337510108948\n",
      "      test_f1_macro          0.664432168006897\n",
      "    test_f1_weighted        0.8410979509353638\n",
      "        test_loss           0.6417115926742554\n",
      "────────────────────────────────────────────────────────────────────────────────────────────────────────────────────────\n"
     ]
    }
   ],
   "source": [
    "# ============================================================\n",
    "# BERT (XLM-R) Sentimiento IA\n",
    "# ============================================================\n",
    "\n",
    "import os, gc, json, math, random, importlib, warnings\n",
    "from pathlib import Path\n",
    "from types import SimpleNamespace\n",
    "import time\n",
    "from datetime import datetime\n",
    "\n",
    "import numpy as np\n",
    "import pandas as pd\n",
    "import torch\n",
    "import torch.nn as nn\n",
    "from torch.utils.data import Dataset, DataLoader\n",
    "\n",
    "import pytorch_lightning as pl\n",
    "from pytorch_lightning.callbacks import ModelCheckpoint, EarlyStopping\n",
    "\n",
    "from transformers import (\n",
    "    AutoTokenizer, AutoConfig, AutoModelForSequenceClassification,\n",
    "    get_linear_schedule_with_warmup\n",
    ")\n",
    "\n",
    "from sklearn.metrics import classification_report, confusion_matrix\n",
    "from torchmetrics.classification import MulticlassAccuracy, MulticlassF1Score\n",
    "\n",
    "import matplotlib.pyplot as plt\n",
    "import seaborn as sns\n",
    "\n",
    "# Configurar warnings y style\n",
    "warnings.filterwarnings('ignore', category=UserWarning)\n",
    "plt.style.use('default')\n",
    "sns.set_palette(\"husl\")\n",
    "\n",
    "# -------------------\n",
    "# Semillas reproducibles\n",
    "# -------------------\n",
    "SEED = 42\n",
    "random.seed(SEED); np.random.seed(SEED); torch.manual_seed(SEED)\n",
    "if torch.cuda.is_available():\n",
    "    torch.cuda.manual_seed_all(SEED)\n",
    "    torch.backends.cudnn.deterministic = True\n",
    "\n",
    "# -------------------\n",
    "# Silencios y env\n",
    "# -------------------\n",
    "os.environ[\"TOKENIZERS_PARALLELISM\"] = \"false\"\n",
    "os.environ[\"WANDB_SILENT\"] = \"true\"\n",
    "\n",
    "print(\"INICIANDO ENTRENAMIENTO DE MODELO DE SENTIMIENTOS\")\n",
    "print(\"=\" * 60)\n",
    "\n",
    "# ============================================================\n",
    "# (1) Detección inteligente de dispositivo\n",
    "# ============================================================\n",
    "def detect_optimal_device():\n",
    "    \"\"\"Detecta el mejor dispositivo disponible y configuraciones óptimas\"\"\"\n",
    "    device_info = {\n",
    "        'device': None,\n",
    "        'accelerator': None,\n",
    "        'precision': None,\n",
    "        'name': None\n",
    "    }\n",
    "    \n",
    "    if torch.cuda.is_available():\n",
    "        device_info['device'] = torch.device(\"cuda\")\n",
    "        device_info['accelerator'] = \"gpu\"\n",
    "        device_info['name'] = torch.cuda.get_device_name(0)\n",
    "        \n",
    "        # Detectar soporte para bfloat16\n",
    "        if hasattr(torch.cuda, 'is_bf16_supported') and torch.cuda.is_bf16_supported():\n",
    "            device_info['precision'] = \"bf16-mixed\"\n",
    "        else:\n",
    "            device_info['precision'] = \"16-mixed\"\n",
    "            \n",
    "        try:\n",
    "            torch.set_float32_matmul_precision(\"high\")\n",
    "            torch.backends.cudnn.benchmark = True\n",
    "        except Exception:\n",
    "            pass\n",
    "            \n",
    "        print(f\"CUDA disponible: {device_info['name']}\")\n",
    "        print(f\"   Precisión: {device_info['precision']}\")\n",
    "        print(f\"   VRAM disponible: {torch.cuda.get_device_properties(0).total_memory / 1e9:.1f} GB\")\n",
    "        \n",
    "    elif hasattr(torch.backends, \"mps\") and torch.backends.mps.is_available():\n",
    "        device_info['device'] = torch.device(\"mps\")\n",
    "        device_info['accelerator'] = \"mps\"\n",
    "        device_info['precision'] = 32\n",
    "        device_info['name'] = \"Apple Silicon MPS\"\n",
    "        print(\"MPS disponible (Apple Silicon)\")\n",
    "        \n",
    "    else:\n",
    "        device_info['device'] = torch.device(\"cpu\")\n",
    "        device_info['accelerator'] = \"cpu\"\n",
    "        device_info['precision'] = 32\n",
    "        device_info['name'] = \"CPU\"\n",
    "        print(\"Usando CPU\")\n",
    "        \n",
    "    return device_info\n",
    "\n",
    "DEVICE_INFO = detect_optimal_device()\n",
    "\n",
    "# ============================================================\n",
    "# (2) Configuración avanzada\n",
    "# ============================================================\n",
    "CFG = SimpleNamespace(\n",
    "    # Rutas\n",
    "    DATA_DIR=Path(\"../data/silver\"),\n",
    "    TRAIN_PATH=Path(\"../data/silver/train.parquet\"),\n",
    "    VAL_PATH=Path(\"../data/silver/val.parquet\"),\n",
    "    TEST_PATH=Path(\"../data/silver/test.parquet\"),\n",
    "    ARTIFACTS_DIR=Path(\"../artifacts\"),\n",
    "    CKPT_DIR=Path(\"../artifacts/checkpoints\"),\n",
    "    PLOTS_DIR=Path(\"../artifacts/plots\"),\n",
    "    \n",
    "    # Modelo\n",
    "    MODEL_NAME=\"xlm-roberta-base\",\n",
    "    NUM_LABELS=3,\n",
    "    MAX_LEN=256,\n",
    "    \n",
    "    # Entrenamiento\n",
    "    BATCH_SIZE=32,\n",
    "    GRAD_ACCUM=1,\n",
    "    EPOCHS=3,\n",
    "    LR=2e-5,\n",
    "    WEIGHT_DECAY=0.01,\n",
    "    WARMUP_PCT=0.06,\n",
    "    NUM_WORKERS=4 if DEVICE_INFO['accelerator'] == 'gpu' else 0,\n",
    "    \n",
    "    # Monitoreo\n",
    "    LOG_EVERY_N_STEPS=10,\n",
    "    VAL_CHECK_INTERVAL=0.5,\n",
    "    \n",
    "    # Hardware\n",
    "    **DEVICE_INFO\n",
    ")\n",
    "\n",
    "# Crear directorios\n",
    "for dir_path in [CFG.ARTIFACTS_DIR, CFG.CKPT_DIR, CFG.PLOTS_DIR]:\n",
    "    dir_path.mkdir(parents=True, exist_ok=True)\n",
    "\n",
    "print(f\"Directorios creados: checkpoints, plots\")\n",
    "\n",
    "# ============================================================\n",
    "# (3) Cargar y validar datos\n",
    "# ============================================================\n",
    "def load_and_validate_data():\n",
    "    \"\"\"Carga y valida los datos de entrenamiento\"\"\"\n",
    "    print(\"\\nCARGANDO DATOS...\")\n",
    "    \n",
    "    # Verificar archivos\n",
    "    for name, path in [(\"train\", CFG.TRAIN_PATH), (\"val\", CFG.VAL_PATH), (\"test\", CFG.TEST_PATH)]:\n",
    "        if not path.exists():\n",
    "            raise FileNotFoundError(f\"No se encuentra {name}.parquet en {path}\")\n",
    "    \n",
    "    # Cargar datos\n",
    "    train_df = pd.read_parquet(CFG.TRAIN_PATH)\n",
    "    val_df = pd.read_parquet(CFG.VAL_PATH)\n",
    "    test_df = pd.read_parquet(CFG.TEST_PATH)\n",
    "    \n",
    "    # Detectar columna de texto\n",
    "    text_cols = [\"texto_model\", \"texto_limpio\", \"texto\", \"titulo_limpio\", \"titulo\"]\n",
    "    TEXT_COL = None\n",
    "    for col in text_cols:\n",
    "        if col in train_df.columns:\n",
    "            TEXT_COL = col\n",
    "            break\n",
    "    \n",
    "    if TEXT_COL is None:\n",
    "        raise ValueError(f\"No se encontró columna de texto. Buscadas: {text_cols}\")\n",
    "    \n",
    "    if \"label\" not in train_df.columns:\n",
    "        raise ValueError(\"El dataset debe tener columna 'label' numérica\")\n",
    "    \n",
    "    # Estadísticas\n",
    "    total_samples = len(train_df) + len(val_df) + len(test_df)\n",
    "    \n",
    "    print(f\"Datos cargados exitosamente:\")\n",
    "    print(f\"   Columna de texto: '{TEXT_COL}'\")\n",
    "    print(f\"   Total muestras: {total_samples:,}\")\n",
    "    print(f\"   Train: {len(train_df):,} ({len(train_df)/total_samples*100:.1f}%)\")\n",
    "    print(f\"   Val: {len(val_df):,} ({len(val_df)/total_samples*100:.1f}%)\")\n",
    "    print(f\"   Test: {len(test_df):,} ({len(test_df)/total_samples*100:.1f}%)\")\n",
    "    \n",
    "    # Distribución de clases\n",
    "    print(f\"\\nDistribución de clases (train):\")\n",
    "    class_dist = train_df['label'].value_counts().sort_index()\n",
    "    class_names = ['Negativo', 'Neutro', 'Positivo']\n",
    "    for i, (count, name) in enumerate(zip(class_dist.values, class_names)):\n",
    "        pct = count / len(train_df) * 100\n",
    "        print(f\"   {i}: {name}: {count:,} ({pct:.1f}%)\")\n",
    "    \n",
    "    return train_df, val_df, test_df, TEXT_COL\n",
    "\n",
    "train_df, val_df, test_df, TEXT_COL = load_and_validate_data()\n",
    "\n",
    "# ============================================================\n",
    "# (4) Inicialización del modelo y tokenizer\n",
    "# ============================================================\n",
    "def setup_model_components():\n",
    "    \"\"\"Configura tokenizer, config y modelo\"\"\"\n",
    "    print(\"\\nCONFIGURANDO COMPONENTES DEL MODELO...\")\n",
    "    \n",
    "    # Tokenizer con fallback\n",
    "    def load_tokenizer(model_name):\n",
    "        try:\n",
    "            return AutoTokenizer.from_pretrained(model_name, use_fast=True)\n",
    "        except Exception as e:\n",
    "            print(f\"Tokenizer rápido falló: {e}\")\n",
    "            return AutoTokenizer.from_pretrained(model_name, use_fast=False)\n",
    "    \n",
    "    tokenizer = load_tokenizer(CFG.MODEL_NAME)\n",
    "    \n",
    "    # Configuración del modelo\n",
    "    hf_config = AutoConfig.from_pretrained(\n",
    "        CFG.MODEL_NAME,\n",
    "        num_labels=CFG.NUM_LABELS\n",
    "    )\n",
    "    \n",
    "    # Función para construir modelo\n",
    "    def build_hf_model():\n",
    "        model = AutoModelForSequenceClassification.from_pretrained(\n",
    "            CFG.MODEL_NAME, config=hf_config\n",
    "        )\n",
    "        \n",
    "        # Optimizaciones de memoria\n",
    "        if hasattr(model.config, \"use_cache\"):\n",
    "            model.config.use_cache = False\n",
    "            \n",
    "        try:\n",
    "            model.gradient_checkpointing_enable()\n",
    "            print(\"Gradient checkpointing habilitado\")\n",
    "        except Exception as e:\n",
    "            print(f\"Gradient checkpointing no disponible: {e}\")\n",
    "            \n",
    "        return model\n",
    "    \n",
    "    print(f\"Modelo configurado: {CFG.MODEL_NAME}\")\n",
    "    print(f\"   Vocabulario: {len(tokenizer):,} tokens\")\n",
    "    print(f\"   Clases: {CFG.NUM_LABELS}\")\n",
    "    \n",
    "    return tokenizer, hf_config, build_hf_model\n",
    "\n",
    "tokenizer, hf_config, build_hf_model = setup_model_components()\n",
    "\n",
    "# ============================================================\n",
    "# (5) Dataset y DataModule optimizados\n",
    "# ============================================================\n",
    "class SentDataset(Dataset):\n",
    "    def __init__(self, df, text_col=TEXT_COL, label_col=\"label\"):\n",
    "        self.texts = df[text_col].astype(str).tolist()\n",
    "        self.labels = df[label_col].astype(int).tolist()\n",
    "        \n",
    "    def __len__(self):\n",
    "        return len(self.texts)\n",
    "    \n",
    "    def __getitem__(self, idx):\n",
    "        return self.texts[idx], self.labels[idx]\n",
    "\n",
    "def collate_fn(batch):\n",
    "    texts, labels = list(zip(*batch))\n",
    "    enc = tokenizer(\n",
    "        list(texts),\n",
    "        truncation=True,\n",
    "        max_length=CFG.MAX_LEN,\n",
    "        padding=True,\n",
    "        return_tensors=\"pt\"\n",
    "    )\n",
    "    return enc, torch.tensor(labels, dtype=torch.long)\n",
    "\n",
    "class SentimentDataModule(pl.LightningDataModule):\n",
    "    def __init__(self, train_df, val_df, test_df):\n",
    "        super().__init__()\n",
    "        self.train_df = train_df\n",
    "        self.val_df = val_df\n",
    "        self.test_df = test_df\n",
    "        \n",
    "    def setup(self, stage=None):\n",
    "        self.train_dataset = SentDataset(self.train_df)\n",
    "        self.val_dataset = SentDataset(self.val_df)\n",
    "        self.test_dataset = SentDataset(self.test_df)\n",
    "        \n",
    "    def train_dataloader(self):\n",
    "        return DataLoader(\n",
    "            self.train_dataset,\n",
    "            batch_size=CFG.BATCH_SIZE,\n",
    "            shuffle=True,\n",
    "            num_workers=CFG.NUM_WORKERS,\n",
    "            collate_fn=collate_fn,\n",
    "            pin_memory=(CFG.accelerator == \"gpu\"),\n",
    "            persistent_workers=(CFG.NUM_WORKERS > 0)\n",
    "        )\n",
    "    \n",
    "    def val_dataloader(self):\n",
    "        return DataLoader(\n",
    "            self.val_dataset,\n",
    "            batch_size=CFG.BATCH_SIZE * 2,  # Batch más grande para validación\n",
    "            shuffle=False,\n",
    "            num_workers=CFG.NUM_WORKERS,\n",
    "            collate_fn=collate_fn,\n",
    "            pin_memory=(CFG.accelerator == \"gpu\"),\n",
    "            persistent_workers=(CFG.NUM_WORKERS > 0)\n",
    "        )\n",
    "    \n",
    "    def test_dataloader(self):\n",
    "        return DataLoader(\n",
    "            self.test_dataset,\n",
    "            batch_size=CFG.BATCH_SIZE * 2,\n",
    "            shuffle=False,\n",
    "            num_workers=CFG.NUM_WORKERS,\n",
    "            collate_fn=collate_fn,\n",
    "            pin_memory=(CFG.accelerator == \"gpu\"),\n",
    "            persistent_workers=(CFG.NUM_WORKERS > 0)\n",
    "        )\n",
    "\n",
    "dm = SentimentDataModule(train_df, val_df, test_df)\n",
    "\n",
    "# ============================================================\n",
    "# (6) Cálculo y carga de pesos por clase\n",
    "# ============================================================\n",
    "def setup_class_weights():\n",
    "    \"\"\"Configura los pesos por clase para balancear el dataset\"\"\"\n",
    "    print(\"\\nCONFIGURANDO PESOS POR CLASE...\")\n",
    "    \n",
    "    CLASS_WEIGHTS_PATH = CFG.ARTIFACTS_DIR / \"class_weights.json\"\n",
    "    \n",
    "    if CLASS_WEIGHTS_PATH.exists():\n",
    "        with open(CLASS_WEIGHTS_PATH, \"r\") as f:\n",
    "            cw_data = json.load(f)\n",
    "        \n",
    "        if isinstance(cw_data, dict) and \"class_weights\" in cw_data:\n",
    "            cw_dict = cw_data[\"class_weights\"]\n",
    "        else:\n",
    "            cw_dict = cw_data\n",
    "        \n",
    "        if isinstance(cw_dict, list):\n",
    "            class_weights = torch.tensor(cw_dict, dtype=torch.float)\n",
    "        else:\n",
    "            class_weights = torch.tensor([\n",
    "                float(cw_dict.get(str(i), 1.0)) for i in range(CFG.NUM_LABELS)\n",
    "            ], dtype=torch.float)\n",
    "        \n",
    "        print(\"Pesos cargados desde archivo\")\n",
    "    else:\n",
    "        # Calcular pesos inversos\n",
    "        vc = train_df[\"label\"].value_counts().sort_index()\n",
    "        freq = vc / len(train_df)\n",
    "        weights = 1.0 / freq\n",
    "        weights = weights / weights.sum() * CFG.NUM_LABELS\n",
    "        class_weights = torch.tensor(weights.values, dtype=torch.float)\n",
    "        \n",
    "        # Guardar para futuro uso\n",
    "        with open(CLASS_WEIGHTS_PATH, \"w\") as f:\n",
    "            json.dump({\n",
    "                \"labels_present\": list(vc.index),\n",
    "                \"class_weights\": {str(i): float(w) for i, w in enumerate(class_weights.tolist())},\n",
    "                \"computed_at\": datetime.now().isoformat()\n",
    "            }, f, indent=2)\n",
    "        \n",
    "        print(\"Pesos calculados y guardados\")\n",
    "    \n",
    "    print(f\"   Pesos finales: {[round(float(w), 3) for w in class_weights.tolist()]}\")\n",
    "    return class_weights\n",
    "\n",
    "CLASS_WEIGHTS = setup_class_weights()\n",
    "\n",
    "# ============================================================\n",
    "# (7) LightningModule mejorado con métricas avanzadas\n",
    "# ============================================================\n",
    "class SentimentClassifier(pl.LightningModule):\n",
    "    def __init__(self, model_name=CFG.MODEL_NAME, num_labels=CFG.NUM_LABELS, \n",
    "                 lr=CFG.LR, weight_decay=CFG.WEIGHT_DECAY, warmup_pct=CFG.WARMUP_PCT, \n",
    "                 class_weights=None):\n",
    "        super().__init__()\n",
    "        self.save_hyperparameters(ignore=[\"class_weights\"])\n",
    "        \n",
    "        self.model = build_hf_model()\n",
    "        self.lr = lr\n",
    "        self.weight_decay = weight_decay\n",
    "        self.warmup_pct = warmup_pct\n",
    "        \n",
    "        # Loss con pesos\n",
    "        self.class_weights = class_weights if class_weights is not None else torch.ones(num_labels)\n",
    "        self.loss_fn = nn.CrossEntropyLoss(weight=self.class_weights)\n",
    "        \n",
    "        # Métricas\n",
    "        self.train_acc = MulticlassAccuracy(num_classes=num_labels, average=\"macro\")\n",
    "        self.train_f1_macro = MulticlassF1Score(num_classes=num_labels, average=\"macro\")\n",
    "        self.train_f1_weighted = MulticlassF1Score(num_classes=num_labels, average=\"weighted\")\n",
    "        \n",
    "        self.val_acc = MulticlassAccuracy(num_classes=num_labels, average=\"macro\")\n",
    "        self.val_f1_macro = MulticlassF1Score(num_classes=num_labels, average=\"macro\")\n",
    "        self.val_f1_weighted = MulticlassF1Score(num_classes=num_labels, average=\"weighted\")\n",
    "        \n",
    "        self.test_acc = MulticlassAccuracy(num_classes=num_labels, average=\"macro\")\n",
    "        self.test_f1_macro = MulticlassF1Score(num_classes=num_labels, average=\"macro\")\n",
    "        self.test_f1_weighted = MulticlassF1Score(num_classes=num_labels, average=\"weighted\")\n",
    "        \n",
    "        # Para guardar métricas por época\n",
    "        self.training_step_outputs = []\n",
    "        self.validation_step_outputs = []\n",
    "        self.test_step_outputs = []\n",
    "        \n",
    "    def forward(self, **inputs):\n",
    "        return self.model(**inputs)\n",
    "    \n",
    "    def _shared_step(self, batch, stage):\n",
    "        inputs, labels = batch\n",
    "        outputs = self(**inputs)\n",
    "        logits = outputs.logits\n",
    "        \n",
    "        loss = self.loss_fn(logits, labels)\n",
    "        preds = torch.argmax(logits, dim=1)\n",
    "        \n",
    "        # Seleccionar métricas según el stage\n",
    "        if stage == \"train\":\n",
    "            acc = self.train_acc(preds, labels)\n",
    "            f1_macro = self.train_f1_macro(preds, labels)\n",
    "            f1_weighted = self.train_f1_weighted(preds, labels)\n",
    "        elif stage == \"val\":\n",
    "            acc = self.val_acc(preds, labels)\n",
    "            f1_macro = self.val_f1_macro(preds, labels)\n",
    "            f1_weighted = self.val_f1_weighted(preds, labels)\n",
    "        else:  # test\n",
    "            acc = self.test_acc(preds, labels)\n",
    "            f1_macro = self.test_f1_macro(preds, labels)\n",
    "            f1_weighted = self.test_f1_weighted(preds, labels)\n",
    "        \n",
    "        # Logging\n",
    "        self.log(f\"{stage}_loss\", loss, prog_bar=True, on_step=(stage==\"train\"), on_epoch=True)\n",
    "        self.log(f\"{stage}_acc\", acc, prog_bar=True, on_step=False, on_epoch=True)\n",
    "        self.log(f\"{stage}_f1_macro\", f1_macro, prog_bar=(stage==\"val\"), on_step=False, on_epoch=True)\n",
    "        self.log(f\"{stage}_f1_weighted\", f1_weighted, prog_bar=False, on_step=False, on_epoch=True)\n",
    "        \n",
    "        return {\n",
    "            'loss': loss,\n",
    "            'preds': preds.detach(),\n",
    "            'labels': labels.detach(),\n",
    "            'logits': logits.detach()\n",
    "        }\n",
    "    \n",
    "    def training_step(self, batch, batch_idx):\n",
    "        result = self._shared_step(batch, \"train\")\n",
    "        self.training_step_outputs.append(result)\n",
    "        return result['loss']\n",
    "    \n",
    "    def validation_step(self, batch, batch_idx):\n",
    "        result = self._shared_step(batch, \"val\")\n",
    "        self.validation_step_outputs.append(result)\n",
    "        return result['loss']\n",
    "    \n",
    "    def test_step(self, batch, batch_idx):\n",
    "        result = self._shared_step(batch, \"test\")\n",
    "        self.test_step_outputs.append(result)\n",
    "        return result['loss']\n",
    "    \n",
    "    def on_train_epoch_end(self):\n",
    "        self.training_step_outputs.clear()\n",
    "    \n",
    "    def on_validation_epoch_end(self):\n",
    "        self.validation_step_outputs.clear()\n",
    "    \n",
    "    def on_test_epoch_end(self):\n",
    "        self.test_step_outputs.clear()\n",
    "    \n",
    "    def configure_optimizers(self):\n",
    "        optimizer = torch.optim.AdamW(\n",
    "            self.parameters(), \n",
    "            lr=self.lr, \n",
    "            weight_decay=self.weight_decay\n",
    "        )\n",
    "        \n",
    "        # Scheduler\n",
    "        total_steps = self.trainer.estimated_stepping_batches\n",
    "        warmup_steps = int(total_steps * self.warmup_pct)\n",
    "        \n",
    "        scheduler = get_linear_schedule_with_warmup(\n",
    "            optimizer,\n",
    "            num_warmup_steps=warmup_steps,\n",
    "            num_training_steps=total_steps\n",
    "        )\n",
    "        \n",
    "        return {\n",
    "            \"optimizer\": optimizer,\n",
    "            \"lr_scheduler\": {\n",
    "                \"scheduler\": scheduler,\n",
    "                \"interval\": \"step\",\n",
    "                \"frequency\": 1\n",
    "            }\n",
    "        }\n",
    "\n",
    "# ============================================================\n",
    "# (8) Callbacks avanzados\n",
    "# ============================================================\n",
    "checkpoint_cb = ModelCheckpoint(\n",
    "    dirpath=str(CFG.CKPT_DIR),\n",
    "    filename=\"sentiment-xlmr-{epoch:02d}-{val_f1_macro:.3f}\",\n",
    "    monitor=\"val_f1_macro\",\n",
    "    mode=\"max\",\n",
    "    save_top_k=1,\n",
    "    save_last=True,\n",
    "    verbose=True\n",
    ")\n",
    "\n",
    "early_stop_cb = EarlyStopping(\n",
    "    monitor=\"val_f1_macro\",\n",
    "    patience=2,\n",
    "    mode=\"max\",\n",
    "    verbose=True,\n",
    "    min_delta=0.001\n",
    ")\n",
    "\n",
    "class AdvancedMemoryCallback(pl.Callback):\n",
    "    def on_train_epoch_end(self, trainer, pl_module):\n",
    "        if CFG.accelerator == \"gpu\":\n",
    "            torch.cuda.empty_cache()\n",
    "        elif CFG.accelerator == \"mps\":\n",
    "            torch.mps.empty_cache()\n",
    "        gc.collect()\n",
    "    \n",
    "    def on_validation_epoch_end(self, trainer, pl_module):\n",
    "        if CFG.accelerator == \"gpu\":\n",
    "            torch.cuda.empty_cache()\n",
    "        elif CFG.accelerator == \"mps\":\n",
    "            torch.mps.empty_cache()\n",
    "\n",
    "# ============================================================\n",
    "# (9) Entrenador con reintentos inteligentes\n",
    "# ============================================================\n",
    "def smart_train_with_retries(model, datamodule, max_epochs=CFG.EPOCHS):\n",
    "    \"\"\"Entrenador inteligente con manejo automático de OOM\"\"\"\n",
    "    print(f\"\\nINICIANDO ENTRENAMIENTO...\")\n",
    "    print(f\"   Épocas: {max_epochs}\")\n",
    "    print(f\"   Objetivo: Maximizar F1-macro en validación\")\n",
    "    \n",
    "    batch_size = CFG.BATCH_SIZE\n",
    "    grad_accum = CFG.GRAD_ACCUM\n",
    "    \n",
    "    # Limpieza inicial\n",
    "    if CFG.accelerator == \"gpu\":\n",
    "        torch.cuda.empty_cache()\n",
    "    elif CFG.accelerator == \"mps\":\n",
    "        torch.mps.empty_cache()\n",
    "    gc.collect()\n",
    "    \n",
    "    while batch_size >= 2:\n",
    "        try:\n",
    "            print(f\"\\nConfiguración actual:\")\n",
    "            print(f\"   Batch size: {batch_size}\")\n",
    "            print(f\"   Grad accumulation: {grad_accum}\")\n",
    "            print(f\"   Precisión: {CFG.precision}\")\n",
    "            \n",
    "            # Actualizar configuración\n",
    "            CFG.BATCH_SIZE = batch_size\n",
    "            CFG.GRAD_ACCUM = grad_accum\n",
    "            \n",
    "            # Crear trainer\n",
    "            trainer = pl.Trainer(\n",
    "                max_epochs=max_epochs,\n",
    "                precision=CFG.precision,\n",
    "                accelerator=CFG.accelerator,\n",
    "                devices=1,\n",
    "                accumulate_grad_batches=grad_accum,\n",
    "                callbacks=[checkpoint_cb, early_stop_cb, AdvancedMemoryCallback()],\n",
    "                enable_progress_bar=True,\n",
    "                log_every_n_steps=CFG.LOG_EVERY_N_STEPS,\n",
    "                val_check_interval=CFG.VAL_CHECK_INTERVAL,\n",
    "                gradient_clip_val=1.0,\n",
    "                enable_checkpointing=True,\n",
    "                enable_model_summary=True,\n",
    "                deterministic=True\n",
    "            )\n",
    "            \n",
    "            # Entrenar\n",
    "            start_time = time.time()\n",
    "            trainer.fit(model, datamodule=datamodule)\n",
    "            training_time = time.time() - start_time\n",
    "            \n",
    "            print(f\"\\nENTRENAMIENTO COMPLETADO!\")\n",
    "            print(f\"   Tiempo total: {training_time:.1f}s ({training_time/60:.1f} min)\")\n",
    "            print(f\"   Mejor modelo: {checkpoint_cb.best_model_path}\")\n",
    "            print(f\"   Mejor F1-macro: {checkpoint_cb.best_model_score:.4f}\")\n",
    "            \n",
    "            # Test\n",
    "            print(f\"\\nEVALUANDO EN TEST SET...\")\n",
    "            test_results = trainer.test(model, datamodule=datamodule)\n",
    "            \n",
    "            return {\n",
    "                'trainer': trainer,\n",
    "                'best_path': checkpoint_cb.best_model_path,\n",
    "                'best_score': checkpoint_cb.best_model_score,\n",
    "                'training_time': training_time,\n",
    "                'test_results': test_results\n",
    "            }\n",
    "            \n",
    "        except RuntimeError as e:\n",
    "            error_msg = str(e).lower()\n",
    "            if any(keyword in error_msg for keyword in [\"out of memory\", \"cuda out of memory\", \"mps backend out of memory\"]):\n",
    "                print(f\"\\nOUT OF MEMORY con batch_size={batch_size}\")\n",
    "                print(f\"   Reduciendo batch size y aumentando acumulación...\")\n",
    "                \n",
    "                batch_size = max(2, batch_size // 2)\n",
    "                grad_accum *= 2\n",
    "                \n",
    "                # Limpieza de memoria\n",
    "                if CFG.accelerator == \"gpu\":\n",
    "                    torch.cuda.empty_cache()\n",
    "                elif CFG.accelerator == \"mps\":\n",
    "                    torch.mps.empty_cache()\n",
    "                gc.collect()\n",
    "                \n",
    "                continue\n",
    "            else:\n",
    "                raise e\n",
    "    \n",
    "    raise RuntimeError(\"No se pudo entrenar ni con batch_size=2. Considera reducir MAX_LEN o usar un modelo más pequeño.\")\n",
    "\n",
    "# Inicializar modelo\n",
    "model = SentimentClassifier(class_weights=CLASS_WEIGHTS)\n",
    "\n",
    "# Entrenar\n",
    "training_results = smart_train_with_retries(model, dm, max_epochs=CFG.EPOCHS)"
   ]
  },
  {
   "cell_type": "code",
   "execution_count": 59,
   "id": "b58b8db3",
   "metadata": {},
   "outputs": [
    {
     "name": "stdout",
     "output_type": "stream",
     "text": [
      "Gráficas de entrenamiento guardadas: ../artifacts/plots/training_curves.png\n"
     ]
    },
    {
     "data": {
      "image/png": "[encoded data removed]",
      "text/plain": [
       "<Figure size 1500x1000 with 4 Axes>"
      ]
     },
     "metadata": {},
     "output_type": "display_data"
    },
    {
     "name": "stderr",
     "output_type": "stream",
     "text": [
      "Some weights of XLMRobertaForSequenceClassification were not initialized from the model checkpoint at xlm-roberta-base and are newly initialized: ['classifier.dense.bias', 'classifier.dense.weight', 'classifier.out_proj.bias', 'classifier.out_proj.weight']\n",
      "You should probably TRAIN this model on a down-stream task to be able to use it for predictions and inference.\n"
     ]
    },
    {
     "name": "stdout",
     "output_type": "stream",
     "text": [
      "Gradient checkpointing habilitado\n"
     ]
    },
    {
     "name": "stderr",
     "output_type": "stream",
     "text": [
      "💡 Tip: For seamless cloud uploads and versioning, try installing [litmodels](https://pypi.org/project/litmodels/) to enable LitModelCheckpoint, which syncs automatically with the Lightning model registry.\n",
      "GPU available: True (cuda), used: True\n",
      "TPU available: False, using: 0 TPU cores\n",
      "HPU available: False, using: 0 HPUs\n",
      "LOCAL_RANK: 0 - CUDA_VISIBLE_DEVICES: [0,1,2,3,4,5,6,7]\n"
     ]
    },
    {
     "name": "stdout",
     "output_type": "stream",
     "text": [
      "Mejor modelo cargado: sentiment-xlmr-epoch=02-val_f1_macro=0.629-v1.ckpt\n",
      "ANÁLISIS DE RENDIMIENTO DEL MODELO\n",
      "==================================================\n",
      "Resultados en Test Set:\n",
      "  Test Loss: 0.6839\n",
      "  Test Accuracy: 70.9%\n",
      "  Test F1-Macro: 0.6800\n",
      "  Test F1-Weighted: 0.8375\n",
      "\n",
      "Reporte de Clasificación:\n",
      "              precision    recall  f1-score   support\n",
      "\n",
      "    Negativo       0.91      0.85      0.88        71\n",
      "      Neutro       0.50      0.50      0.50         6\n",
      "    Positivo       0.78      0.87      0.82        45\n",
      "\n",
      "    accuracy                           0.84       122\n",
      "   macro avg       0.73      0.74      0.73       122\n",
      "weighted avg       0.84      0.84      0.84       122\n",
      "\n",
      "Matriz de confusión guardada: ../artifacts/plots/confusion_matrix.png\n"
     ]
    },
    {
     "data": {
      "image/png": "[encoded data removed]",
      "text/plain": [
       "<Figure size 800x600 with 2 Axes>"
      ]
     },
     "metadata": {},
     "output_type": "display_data"
    },
    {
     "name": "stdout",
     "output_type": "stream",
     "text": [
      "VALIDACIÓN CON EJEMPLOS MANUALES\n",
      "==================================================\n"
     ]
    },
    {
     "name": "stderr",
     "output_type": "stream",
     "text": [
      "Some weights of XLMRobertaForSequenceClassification were not initialized from the model checkpoint at xlm-roberta-base and are newly initialized: ['classifier.dense.bias', 'classifier.dense.weight', 'classifier.out_proj.bias', 'classifier.out_proj.weight']\n",
      "You should probably TRAIN this model on a down-stream task to be able to use it for predictions and inference.\n"
     ]
    },
    {
     "name": "stdout",
     "output_type": "stream",
     "text": [
      "Gradient checkpointing habilitado\n",
      "Modelo cargado desde checkpoint: sentiment-xlmr-epoch=02-val_f1_macro=0.629-v1.ckpt\n",
      "\n",
      "Categoría: Muy Positivos\n",
      "--------------------------------------------------\n",
      "CORRECTO  1. Positivo  (36.3%) - ¡Excelente producto! Lo recomiendo totalmente, superó mis ex...\n",
      "CORRECTO  2. Positivo  (38.1%) - Amazing service! I'm completely satisfied with my purchase\n",
      "CORRECTO  3. Positivo  (44.6%) - Outstanding quality and fast delivery. Five stars!\n",
      "ERROR  4. Neutro  (35.1%) - Me encanta este lugar, la comida está deliciosa y el servici...\n",
      "ERROR  5. Neutro  (57.2%) - This is exactly what I was looking for. Brilliant!\n",
      "\n",
      "Precisión en Muy Positivos: 3/5 (60.0%)\n",
      "\n",
      "Categoría: Negativos\n",
      "--------------------------------------------------\n",
      "CORRECTO  1. Negativo  (40.8%) - Terrible experiencia, no lo recomiendo para nada. Muy decepc...\n",
      "CORRECTO  2. Negativo  (44.8%) - Awful product, waste of money. Poor quality and bad customer...\n",
      "CORRECTO  3. Negativo  (44.7%) - No funcionó como esperaba. Muy frustrante y confuso\n",
      "CORRECTO  4. Negativo  (45.7%) - Worst purchase ever. Completely useless and overpriced\n",
      "CORRECTO  5. Negativo  (41.8%) - Pésima atención al cliente, no resuelven ningún problema\n",
      "\n",
      "Precisión en Negativos: 5/5 (100.0%)\n",
      "\n",
      "Categoría: Neutrales\n",
      "--------------------------------------------------\n",
      "ERROR  1. Positivo  (40.8%) - El producto llegó en la fecha indicada y cumple su función b...\n",
      "CORRECTO  2. Neutro  (39.1%) - Standard quality product. Nothing special but does the job\n",
      "CORRECTO  3. Neutro  (52.1%) - Funciona como se describe, sin más. Precio normal para lo qu...\n",
      "ERROR  4. Positivo  (39.0%) - Received the item as described. Average experience overall\n",
      "CORRECTO  5. Neutro  (38.9%) - Es un producto normal, ni bueno ni malo. Cumple expectativas...\n",
      "\n",
      "Precisión en Neutrales: 3/5 (60.0%)\n",
      "\n",
      "RESUMEN GENERAL DE VALIDACIÓN\n",
      "========================================\n",
      "Total correcto: 11/15\n",
      "Precisión general: 73.3%\n",
      "Buen rendimiento, pero hay espacio para mejora\n",
      "Resultados guardados: ../artifacts/manual_validation_results.json\n",
      "INICIANDO ANÁLISIS POST-ENTRENAMIENTO\n",
      "Análisis completo finalizado. Revisa las gráficas y métricas generadas.\n"
     ]
    }
   ],
   "source": [
    "# ============================================================\n",
    "# ANÁLISIS POST-ENTRENAMIENTO COMPLETO\n",
    "# ============================================================\n",
    "\n",
    "def plot_training_curves(trainer):\n",
    "    \"\"\"Genera gráficas de las curvas de entrenamiento\"\"\"\n",
    "    if not hasattr(trainer, 'logged_metrics') or not trainer.logged_metrics:\n",
    "        print(\"No hay métricas de entrenamiento disponibles\")\n",
    "        return\n",
    "    \n",
    "    # Extraer métricas\n",
    "    metrics = trainer.logged_metrics\n",
    "    steps = list(range(len(metrics)))\n",
    "    \n",
    "    fig, axes = plt.subplots(2, 2, figsize=(15, 10))\n",
    "    fig.suptitle(\"Curvas de Entrenamiento\", fontsize=16, fontweight='bold')\n",
    "    \n",
    "    # Loss\n",
    "    if 'train_loss' in metrics:\n",
    "        axes[0,0].plot(steps, [m.get('train_loss', 0) for m in metrics.values()], 'b-', label='Train')\n",
    "    if 'val_loss' in metrics:\n",
    "        axes[0,0].plot(steps, [m.get('val_loss', 0) for m in metrics.values()], 'r-', label='Validation')\n",
    "    axes[0,0].set_title('Loss')\n",
    "    axes[0,0].set_xlabel('Steps')\n",
    "    axes[0,0].legend()\n",
    "    axes[0,0].grid(True, alpha=0.3)\n",
    "    \n",
    "    # Accuracy\n",
    "    if 'train_acc' in metrics:\n",
    "        axes[0,1].plot(steps, [m.get('train_acc', 0) for m in metrics.values()], 'b-', label='Train')\n",
    "    if 'val_acc' in metrics:\n",
    "        axes[0,1].plot(steps, [m.get('val_acc', 0) for m in metrics.values()], 'r-', label='Validation')\n",
    "    axes[0,1].set_title('Accuracy')\n",
    "    axes[0,1].set_xlabel('Steps')\n",
    "    axes[0,1].legend()\n",
    "    axes[0,1].grid(True, alpha=0.3)\n",
    "    \n",
    "    # F1-macro\n",
    "    if 'train_f1_macro' in metrics:\n",
    "        axes[1,0].plot(steps, [m.get('train_f1_macro', 0) for m in metrics.values()], 'b-', label='Train')\n",
    "    if 'val_f1_macro' in metrics:\n",
    "        axes[1,0].plot(steps, [m.get('val_f1_macro', 0) for m in metrics.values()], 'r-', label='Validation')\n",
    "    axes[1,0].set_title('F1-Macro')\n",
    "    axes[1,0].set_xlabel('Steps')\n",
    "    axes[1,0].legend()\n",
    "    axes[1,0].grid(True, alpha=0.3)\n",
    "    \n",
    "    # F1-weighted\n",
    "    if 'train_f1_weighted' in metrics:\n",
    "        axes[1,1].plot(steps, [m.get('train_f1_weighted', 0) for m in metrics.values()], 'b-', label='Train')\n",
    "    if 'val_f1_weighted' in metrics:\n",
    "        axes[1,1].plot(steps, [m.get('val_f1_weighted', 0) for m in metrics.values()], 'r-', label='Validation')\n",
    "    axes[1,1].set_title('F1-Weighted')\n",
    "    axes[1,1].set_xlabel('Steps')\n",
    "    axes[1,1].legend()\n",
    "    axes[1,1].grid(True, alpha=0.3)\n",
    "    \n",
    "    plt.tight_layout()\n",
    "    \n",
    "    # Guardar\n",
    "    plot_path = CFG.PLOTS_DIR / \"training_curves.png\"\n",
    "    plt.savefig(plot_path, dpi=150, bbox_inches='tight')\n",
    "    print(f\"Gráficas de entrenamiento guardadas: {plot_path}\")\n",
    "    plt.show()\n",
    "\n",
    "def analyze_model_performance(model, dm, class_names=['Negativo', 'Neutro', 'Positivo']):\n",
    "    \"\"\"Análisis detallado del rendimiento del modelo\"\"\"\n",
    "    print(\"ANÁLISIS DE RENDIMIENTO DEL MODELO\")\n",
    "    print(\"=\"*50)\n",
    "    \n",
    "    model.eval()\n",
    "    \n",
    "    # Evaluar en test set\n",
    "    trainer = pl.Trainer(\n",
    "        accelerator=CFG.accelerator,\n",
    "        devices=1,\n",
    "        enable_progress_bar=False,\n",
    "        logger=False\n",
    "    )\n",
    "    \n",
    "    test_results = trainer.test(model, datamodule=dm, verbose=False)\n",
    "    \n",
    "    # Obtener predicciones detalladas\n",
    "    all_preds = []\n",
    "    all_labels = []\n",
    "    all_probs = []\n",
    "    \n",
    "    model.to(CFG.device)\n",
    "    \n",
    "    with torch.no_grad():\n",
    "        for batch in dm.test_dataloader():\n",
    "            inputs, labels = batch\n",
    "            inputs = {k: v.to(CFG.device) for k, v in inputs.items()}\n",
    "            labels = labels.to(CFG.device)\n",
    "            \n",
    "            outputs = model(**inputs)\n",
    "            probs = torch.softmax(outputs.logits, dim=1)\n",
    "            preds = torch.argmax(outputs.logits, dim=1)\n",
    "            \n",
    "            all_preds.extend(preds.cpu().numpy())\n",
    "            all_labels.extend(labels.cpu().numpy())\n",
    "            all_probs.extend(probs.cpu().numpy())\n",
    "    \n",
    "    # Métricas generales\n",
    "    print(f\"Resultados en Test Set:\")\n",
    "    for result in test_results:\n",
    "        print(f\"  Test Loss: {result['test_loss']:.4f}\")\n",
    "        print(f\"  Test Accuracy: {result['test_acc']:.1%}\")\n",
    "        print(f\"  Test F1-Macro: {result['test_f1_macro']:.4f}\")\n",
    "        print(f\"  Test F1-Weighted: {result['test_f1_weighted']:.4f}\")\n",
    "    \n",
    "    # Classification Report\n",
    "    print(f\"\\nReporte de Clasificación:\")\n",
    "    print(classification_report(all_labels, all_preds, target_names=class_names))\n",
    "    \n",
    "    # Matriz de confusión\n",
    "    cm = confusion_matrix(all_labels, all_preds)\n",
    "    \n",
    "    # Visualizar matriz de confusión\n",
    "    plt.figure(figsize=(8, 6))\n",
    "    sns.heatmap(cm, annot=True, fmt='d', cmap='Blues', \n",
    "                xticklabels=class_names, yticklabels=class_names)\n",
    "    plt.title('Matriz de Confusión')\n",
    "    plt.xlabel('Predicción')\n",
    "    plt.ylabel('Real')\n",
    "    \n",
    "    # Guardar\n",
    "    cm_path = CFG.PLOTS_DIR / \"confusion_matrix.png\"\n",
    "    plt.savefig(cm_path, dpi=150, bbox_inches='tight')\n",
    "    print(f\"Matriz de confusión guardada: {cm_path}\")\n",
    "    plt.show()\n",
    "    \n",
    "    return {\n",
    "        'test_results': test_results,\n",
    "        'predictions': all_preds,\n",
    "        'labels': all_labels,\n",
    "        'probabilities': all_probs,\n",
    "        'confusion_matrix': cm\n",
    "    }\n",
    "\n",
    "class SentimentInferencePipeline:\n",
    "    \"\"\"Pipeline optimizado para inferencia de sentimientos\"\"\"\n",
    "    \n",
    "    def __init__(self, checkpoint_path, tokenizer):\n",
    "        self.tokenizer = tokenizer\n",
    "        \n",
    "        # Cargar modelo\n",
    "        if checkpoint_path and Path(checkpoint_path).exists():\n",
    "            self.model = SentimentClassifier.load_from_checkpoint(\n",
    "                checkpoint_path, \n",
    "                map_location=CFG.device,\n",
    "                strict=False\n",
    "            )\n",
    "            print(f\"Modelo cargado desde checkpoint: {Path(checkpoint_path).name}\")\n",
    "        else:\n",
    "            self.model = model  # Usar modelo actual\n",
    "            print(\"Usando modelo actual (no se encontró checkpoint)\")\n",
    "        \n",
    "        self.model.eval()\n",
    "        self.model.to(CFG.device)\n",
    "        \n",
    "        # Mapeo de etiquetas\n",
    "        self.label_map = {0: 'Negativo', 1: 'Neutro', 2: 'Positivo'}\n",
    "        self.emoji_map = {0: '', 1: '', 2: ''}  # Sin emojis\n",
    "        \n",
    "    def predict_single(self, text):\n",
    "        \"\"\"Predice el sentimiento de un texto individual\"\"\"\n",
    "        if not isinstance(text, str) or not text.strip():\n",
    "            return {\n",
    "                'prediction': 'Neutro',\n",
    "                'confidence': 0.33,\n",
    "                'probabilities': [0.33, 0.34, 0.33],\n",
    "                'emoji': ''\n",
    "            }\n",
    "        \n",
    "        # Tokenizar\n",
    "        inputs = self.tokenizer(\n",
    "            text.strip(),\n",
    "            truncation=True,\n",
    "            max_length=CFG.MAX_LEN,\n",
    "            padding=True,\n",
    "            return_tensors=\"pt\"\n",
    "        )\n",
    "        \n",
    "        # Mover a device\n",
    "        inputs = {k: v.to(CFG.device) for k, v in inputs.items()}\n",
    "        \n",
    "        # Inferencia\n",
    "        with torch.no_grad():\n",
    "            outputs = self.model(**inputs)\n",
    "            probs = torch.softmax(outputs.logits, dim=1)[0]\n",
    "            pred_id = torch.argmax(probs).item()\n",
    "        \n",
    "        return {\n",
    "            'prediction': self.label_map[pred_id],\n",
    "            'confidence': float(probs[pred_id]),\n",
    "            'probabilities': probs.cpu().numpy().tolist(),\n",
    "            'emoji': self.emoji_map[pred_id]\n",
    "        }\n",
    "    \n",
    "    def predict_batch(self, texts, batch_size=32):\n",
    "        \"\"\"Predice el sentimiento de un lote de textos\"\"\"\n",
    "        if not texts:\n",
    "            return []\n",
    "        \n",
    "        results = []\n",
    "        \n",
    "        for i in range(0, len(texts), batch_size):\n",
    "            batch_texts = texts[i:i+batch_size]\n",
    "            \n",
    "            # Tokenizar batch\n",
    "            inputs = self.tokenizer(\n",
    "                batch_texts,\n",
    "                truncation=True,\n",
    "                max_length=CFG.MAX_LEN,\n",
    "                padding=True,\n",
    "                return_tensors=\"pt\"\n",
    "            )\n",
    "            \n",
    "            # Mover a device\n",
    "            inputs = {k: v.to(CFG.device) for k, v in inputs.items()}\n",
    "            \n",
    "            # Inferencia\n",
    "            with torch.no_grad():\n",
    "                outputs = self.model(**inputs)\n",
    "                probs = torch.softmax(outputs.logits, dim=1)\n",
    "                pred_ids = torch.argmax(probs, dim=1)\n",
    "            \n",
    "            # Procesar resultados del batch\n",
    "            for j, (text, pred_id, prob_vec) in enumerate(zip(batch_texts, pred_ids, probs)):\n",
    "                results.append({\n",
    "                    'text': text,\n",
    "                    'prediction': self.label_map[pred_id.item()],\n",
    "                    'confidence': float(prob_vec[pred_id]),\n",
    "                    'probabilities': prob_vec.cpu().numpy().tolist(),\n",
    "                    'emoji': self.emoji_map[pred_id.item()]\n",
    "                })\n",
    "        \n",
    "        return results\n",
    "\n",
    "def validate_with_examples(pipeline):\n",
    "    \"\"\"Valida el modelo con ejemplos manuales cuidadosamente seleccionados\"\"\"\n",
    "    \n",
    "    test_examples = {\n",
    "        \"Muy Positivos\": [\n",
    "            \"¡Excelente producto! Lo recomiendo totalmente, superó mis expectativas\",\n",
    "            \"Amazing service! I'm completely satisfied with my purchase\",\n",
    "            \"Outstanding quality and fast delivery. Five stars!\",\n",
    "            \"Me encanta este lugar, la comida está deliciosa y el servicio es perfecto\",\n",
    "            \"This is exactly what I was looking for. Brilliant!\"\n",
    "        ],\n",
    "        \"Negativos\": [\n",
    "            \"Terrible experiencia, no lo recomiendo para nada. Muy decepcionante\",\n",
    "            \"Awful product, waste of money. Poor quality and bad customer service\",\n",
    "            \"No funcionó como esperaba. Muy frustrante y confuso\",\n",
    "            \"Worst purchase ever. Completely useless and overpriced\",\n",
    "            \"Pésima atención al cliente, no resuelven ningún problema\"\n",
    "        ],\n",
    "        \"Neutrales\": [\n",
    "            \"El producto llegó en la fecha indicada y cumple su función básica\",\n",
    "            \"Standard quality product. Nothing special but does the job\",\n",
    "            \"Funciona como se describe, sin más. Precio normal para lo que ofrece\",\n",
    "            \"Received the item as described. Average experience overall\",\n",
    "            \"Es un producto normal, ni bueno ni malo. Cumple expectativas básicas\"\n",
    "        ]\n",
    "    }\n",
    "    \n",
    "    print(\"VALIDACIÓN CON EJEMPLOS MANUALES\")\n",
    "    print(\"=\"*50)\n",
    "    \n",
    "    # Cargar mejor checkpoint si existe\n",
    "    best_checkpoint = training_results.get('best_path')\n",
    "    pipeline = SentimentInferencePipeline(best_checkpoint, tokenizer)\n",
    "    \n",
    "    # Ejecutar validación\n",
    "    validation_results = {}\n",
    "    \n",
    "    for category, examples in test_examples.items():\n",
    "        print(f\"\\nCategoría: {category}\")\n",
    "        print(\"-\" * 50)\n",
    "        \n",
    "        category_results = []\n",
    "        correct_predictions = 0\n",
    "        \n",
    "        # Mapeo esperado\n",
    "        expected_sentiment = {\n",
    "            \"Muy Positivos\": \"Positivo\",\n",
    "            \"Negativos\": \"Negativo\", \n",
    "            \"Neutrales\": \"Neutro\"\n",
    "        }[category]\n",
    "        \n",
    "        for i, example in enumerate(examples, 1):\n",
    "            result = pipeline.predict_single(example)\n",
    "            is_correct = result['prediction'] == expected_sentiment\n",
    "            correct_predictions += is_correct\n",
    "            \n",
    "            # Mostrar resultado\n",
    "            status = \"CORRECTO\" if is_correct else \"ERROR\"\n",
    "            print(f\"{status} {i:2d}. {result['prediction']} {result['emoji']} \"\n",
    "                  f\"({result['confidence']:.1%}) - {example[:60]}{'...' if len(example) > 60 else ''}\")\n",
    "            \n",
    "            category_results.append({\n",
    "                'text': example,\n",
    "                'expected': expected_sentiment,\n",
    "                'predicted': result['prediction'],\n",
    "                'correct': is_correct,\n",
    "                'confidence': result['confidence'],\n",
    "                'probabilities': result['probabilities']\n",
    "            })\n",
    "        \n",
    "        accuracy = correct_predictions / len(examples)\n",
    "        print(f\"\\nPrecisión en {category}: {correct_predictions}/{len(examples)} ({accuracy:.1%})\")\n",
    "        \n",
    "        validation_results[category] = {\n",
    "            'examples': category_results,\n",
    "            'accuracy': accuracy,\n",
    "            'correct_count': correct_predictions,\n",
    "            'total_count': len(examples)\n",
    "        }\n",
    "    \n",
    "    # Resumen general\n",
    "    total_correct = sum(v['correct_count'] for v in validation_results.values())\n",
    "    total_examples = sum(v['total_count'] for v in validation_results.values())\n",
    "    overall_accuracy = total_correct / total_examples\n",
    "    \n",
    "    print(f\"\\nRESUMEN GENERAL DE VALIDACIÓN\")\n",
    "    print(\"=\"*40)\n",
    "    print(f\"Total correcto: {total_correct}/{total_examples}\")\n",
    "    print(f\"Precisión general: {overall_accuracy:.1%}\")\n",
    "    \n",
    "    if overall_accuracy >= 0.8:\n",
    "        print(\"Excelente rendimiento en validación manual!\")\n",
    "    elif overall_accuracy >= 0.7:\n",
    "        print(\"Buen rendimiento, pero hay espacio para mejora\")\n",
    "    else:\n",
    "        print(\"El modelo necesita más entrenamiento o ajustes\")\n",
    "    \n",
    "    # Guardar resultados de validación\n",
    "    validation_path = CFG.ARTIFACTS_DIR / \"manual_validation_results.json\"\n",
    "    with open(validation_path, 'w', encoding='utf-8') as f:\n",
    "        json.dump({\n",
    "            'validation_results': validation_results,\n",
    "            'overall_accuracy': overall_accuracy,\n",
    "            'total_correct': total_correct,\n",
    "            'total_examples': total_examples,\n",
    "            'timestamp': datetime.now().isoformat(),\n",
    "            'model_checkpoint': str(best_checkpoint) if best_checkpoint else \"current_model\"\n",
    "        }, f, indent=2, ensure_ascii=False)\n",
    "    \n",
    "    print(f\"Resultados guardados: {validation_path}\")\n",
    "    \n",
    "    return pipeline, validation_results\n",
    "\n",
    "# ============================================================\n",
    "# EJECUTAR ANÁLISIS COMPLETO\n",
    "# ============================================================\n",
    "\n",
    "# 1. Generar curvas de entrenamiento\n",
    "plot_training_curves(training_results['trainer'])\n",
    "\n",
    "# 2. Cargar mejor modelo para evaluación\n",
    "best_model_path = training_results['best_path']\n",
    "if best_model_path and Path(best_model_path).exists():\n",
    "    best_model = SentimentClassifier.load_from_checkpoint(best_model_path, class_weights=CLASS_WEIGHTS)\n",
    "    print(f\"Mejor modelo cargado: {Path(best_model_path).name}\")\n",
    "else:\n",
    "    best_model = model\n",
    "    print(\"Usando modelo actual (checkpoint no encontrado)\")\n",
    "\n",
    "best_model.eval()\n",
    "\n",
    "# 3. Evaluación detallada\n",
    "performance_results = analyze_model_performance(best_model, dm)\n",
    "\n",
    "# 4. Validación con ejemplos manuales\n",
    "pipeline, validation_results = validate_with_examples(None)\n",
    "\n",
    "print(\"INICIANDO ANÁLISIS POST-ENTRENAMIENTO\")\n",
    "print(\"Análisis completo finalizado. Revisa las gráficas y métricas generadas.\")"
   ]
  },
  {
   "cell_type": "code",
   "execution_count": null,
   "id": "2201b24d",
   "metadata": {},
   "outputs": [],
   "source": []
  }
 ],
 "metadata": {
  "kernelspec": {
   "display_name": ".venv",
   "language": "python",
   "name": "python3"
  },
  "language_info": {
   "codemirror_mode": {
    "name": "ipython",
    "version": 3
   },
   "file_extension": ".py",
   "mimetype": "text/x-python",
   "name": "python",
   "nbconvert_exporter": "python",
   "pygments_lexer": "ipython3",
   "version": "3.12.3"
  }
 },
 "nbformat": 4,
 "nbformat_minor": 5
}
